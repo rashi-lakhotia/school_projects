{
  "nbformat": 4,
  "nbformat_minor": 0,
  "metadata": {
    "colab": {
      "provenance": []
    },
    "kernelspec": {
      "name": "python3",
      "display_name": "Python 3"
    },
    "language_info": {
      "name": "python"
    }
  },
  "cells": [
    {
      "cell_type": "markdown",
      "source": [
        "# **HW4: Machine Learning Based Investment Strategy For NBA Players Memorabilia**\n",
        "\n",
        "## **BAX 357 - Predictive Analytics**\n",
        "\n",
        "Written by: Dr. Mark Tsechansky, Ethan Wong\n",
        "\n",
        "Special Thanks: Juwon Lee, Jacob Foster\n",
        "\n",
        "Student Names and Group Number: Anooshka Erusu, Rashi Lakhotia, Ria Mittal; Group 2\n",
        "\n",
        "Participating in Competition: Yes\n",
        "\n",
        "* For those participating in the competition, upon completing this HW assignment, please see the *OPTIONAL* section for the competition deliverables and guidelines.\n",
        "\n",
        "* Failing to turn in this assignment by the due date will result in your group being REQUIRED to participate in the competition."
      ],
      "metadata": {
        "id": "4zYPQg04pNJz"
      }
    },
    {
      "cell_type": "markdown",
      "source": [
        "## **For this assignment, you will use real data on past basketball players and machine learning techniques to make informed memorabilia investment decisions! To begin, please import the following libraries and read in the dataframe below.**\n",
        "\n",
        "Note: If you are using Google Colab, you must upload the NBA Data CSV from Canvas by doing the following:\n",
        "\n",
        "* On the left-side bar, click the folder icon.\n",
        "* Click the 'Upload to session storage' button.\n",
        "* Upload the NBA Data CSV file; it will appear below the 'sample_data' folder.\n",
        "\n",
        "**Unfortunately, this process must be done every time the runtime is disconnected - just a quirk with Google Colab.**\n",
        "\n",
        "If you are using Jupyter notebook, just make sure the NBA Data CSV file is in the same folder location as this .ipynb file."
      ],
      "metadata": {
        "id": "O9fAc6eOqLLZ"
      }
    },
    {
      "cell_type": "code",
      "execution_count": null,
      "metadata": {
        "id": "lAItBEBNpMtE"
      },
      "outputs": [],
      "source": [
        "# Import Libraries\n",
        "import numpy as np\n",
        "from matplotlib import pyplot as plt\n",
        "import pandas as pd\n",
        "from sklearn.metrics import confusion_matrix, ConfusionMatrixDisplay, RocCurveDisplay, accuracy_score, confusion_matrix, accuracy_score, roc_curve, auc\n",
        "from sklearn.model_selection import cross_val_score, cross_val_predict\n",
        "from sklearn.tree import DecisionTreeClassifier\n",
        "from sklearn.ensemble import BaggingClassifier, RandomForestClassifier\n",
        "from sklearn.naive_bayes import MultinomialNB\n",
        "from sklearn.neighbors import KNeighborsClassifier\n",
        "from sklearn.feature_selection import SelectKBest, chi2, mutual_info_classif\n",
        "from sklearn.model_selection import train_test_split\n",
        "from sklearn.feature_selection import SequentialFeatureSelector as SFS, RFE\n",
        "\n",
        "# Reset Plot Settings\n",
        "plt.rcdefaults()"
      ]
    },
    {
      "cell_type": "code",
      "source": [
        "NBA_Data = pd.read_csv('NBA_Data.csv',index_col=0)"
      ],
      "metadata": {
        "id": "5D-PVDT_rDoA"
      },
      "execution_count": null,
      "outputs": []
    },
    {
      "cell_type": "markdown",
      "source": [
        "## **About the data:**"
      ],
      "metadata": {
        "id": "9FxNDGO9tTCh"
      }
    },
    {
      "cell_type": "markdown",
      "source": [
        "You are provided with data on past players that includes 27 different predictors/attributes on each player. The complete list is as follows:\n",
        "\n",
        "Field | Description\n",
        "------|------------\n",
        "games|games played\n",
        "minutes|minutes played\n",
        "pts|points\n",
        "offReb|offensive rebounds\n",
        "defReb|defensive rebounds\n",
        "reb|rebounds\n",
        "asts|assists\n",
        "stl|steals* (see below)\n",
        "blk|blocks* (see below)\n",
        "turnover|turnovers* (see below)\n",
        "pf|Personal Fouls\n",
        "fga|field goals attempted\n",
        "fgm|field goals made\n",
        "fta|free throws attempted\n",
        "ftm|free throws made\n",
        "tpa|three pointers attempted* (see below)\n",
        "tpm|three pointers made* (see below)\n",
        "totalSeasons|Total number of seasons played. This value is calculated as follows: \"lastSeason - firstSeason + 1\"\n",
        "firstSeason|First season played. The year corresponds to the first year of the season (i.e. a value of 2000 represents the 2000-2001 season).\n",
        "lastSeason|Last season played. The year corresponds to the first year of the season (i.e. a value of 2000 represents the 2000-2001 season). Note that 2004 (2004-2005 season) is the last year for which there is data.\n",
        "careerEnded|Boolean field for if the player's career has ended (1 if career has ended, 0 otherwise). This field was calculated as follows: if the \"lastSeason\" field is earlier than 2004, the value is 1, otherwise 0. Note that this calculation naively assumes that no players retired at the end of the 2004  season.\n",
        "yrsRetired2004|The number of seasons that a player has been retired as of the 2004-2005 season.\n",
        "class|A Boolean field showing whether or not a player was inducted to the Basketball Hall of Fame (HoF) as a player. This field has value 1 if the player has been inducted, and 0 otherwise.\n",
        "league| N = National Basketball Association (NBA); A = American Basketball Association (ABA)\n",
        "position|C = Center; F = Forward; G = Guard"
      ],
      "metadata": {
        "id": "G5vb1UsNtbK6"
      }
    },
    {
      "cell_type": "markdown",
      "source": [
        "Important Notes:\n",
        "\n",
        "* The NBA did not have three point shots until 1979.\n",
        "* Steals, Blocks and Turnovers were not recorded in the NBA until 1973.\n",
        "\n",
        "Each row corresponds to a player and contains the player's attributes above.\n",
        "\n",
        "The first 5 rows of the dataframe are shown below:"
      ],
      "metadata": {
        "id": "5euiV13buAL3"
      }
    },
    {
      "cell_type": "code",
      "source": [
        "NBA_Data.head()"
      ],
      "metadata": {
        "colab": {
          "base_uri": "https://localhost:8080/",
          "height": 255
        },
        "id": "SHRRDDRxudbL",
        "outputId": "2e5e0027-414a-4de4-806f-33a01a81b4e8"
      },
      "execution_count": null,
      "outputs": [
        {
          "output_type": "execute_result",
          "data": {
            "text/plain": [
              "   games  minutes     pts  offReb  defReb     reb   asts    stl    blk  \\\n",
              "0  408.0   9825.0  5232.0   476.0   824.0  1300.0  866.0  265.0  175.0   \n",
              "1   51.0      0.0   587.0     0.0     0.0     0.0  158.0    0.0    0.0   \n",
              "2  265.0      0.0  1712.0     0.0     0.0    72.0  311.0    0.0    0.0   \n",
              "3  133.0   2587.0   992.0    55.0   198.0   253.0  291.0  123.0   14.0   \n",
              "4    8.0     28.0     7.0     0.0     2.0     2.0    0.0    0.0    0.0   \n",
              "\n",
              "   turnover  ...  firstSeason  lastSeason  careerEnded  yrsRetired2004  class  \\\n",
              "0     700.0  ...       1982.0      1990.0          1.0            14.0  False   \n",
              "1       0.0  ...       1949.0      1949.0          1.0            55.0  False   \n",
              "2       0.0  ...       1946.0      1950.0          1.0            54.0  False   \n",
              "3     207.0  ...       2003.0      2004.0          0.0             0.0  False   \n",
              "4       1.0  ...       2004.0      2004.0          0.0             0.0  False   \n",
              "\n",
              "   league_A  league_N  Position_C  Position_F  Position_G  \n",
              "0         0         1           0           0           1  \n",
              "1         0         1           0           0           1  \n",
              "2         0         1           0           0           1  \n",
              "3         0         1           0           0           1  \n",
              "4         0         1           0           0           1  \n",
              "\n",
              "[5 rows x 28 columns]"
            ],
            "text/html": [
              "\n",
              "  <div id=\"df-46e30431-6a4c-405c-87c7-90ecca0a45fd\" class=\"colab-df-container\">\n",
              "    <div>\n",
              "<style scoped>\n",
              "    .dataframe tbody tr th:only-of-type {\n",
              "        vertical-align: middle;\n",
              "    }\n",
              "\n",
              "    .dataframe tbody tr th {\n",
              "        vertical-align: top;\n",
              "    }\n",
              "\n",
              "    .dataframe thead th {\n",
              "        text-align: right;\n",
              "    }\n",
              "</style>\n",
              "<table border=\"1\" class=\"dataframe\">\n",
              "  <thead>\n",
              "    <tr style=\"text-align: right;\">\n",
              "      <th></th>\n",
              "      <th>games</th>\n",
              "      <th>minutes</th>\n",
              "      <th>pts</th>\n",
              "      <th>offReb</th>\n",
              "      <th>defReb</th>\n",
              "      <th>reb</th>\n",
              "      <th>asts</th>\n",
              "      <th>stl</th>\n",
              "      <th>blk</th>\n",
              "      <th>turnover</th>\n",
              "      <th>...</th>\n",
              "      <th>firstSeason</th>\n",
              "      <th>lastSeason</th>\n",
              "      <th>careerEnded</th>\n",
              "      <th>yrsRetired2004</th>\n",
              "      <th>class</th>\n",
              "      <th>league_A</th>\n",
              "      <th>league_N</th>\n",
              "      <th>Position_C</th>\n",
              "      <th>Position_F</th>\n",
              "      <th>Position_G</th>\n",
              "    </tr>\n",
              "  </thead>\n",
              "  <tbody>\n",
              "    <tr>\n",
              "      <th>0</th>\n",
              "      <td>408.0</td>\n",
              "      <td>9825.0</td>\n",
              "      <td>5232.0</td>\n",
              "      <td>476.0</td>\n",
              "      <td>824.0</td>\n",
              "      <td>1300.0</td>\n",
              "      <td>866.0</td>\n",
              "      <td>265.0</td>\n",
              "      <td>175.0</td>\n",
              "      <td>700.0</td>\n",
              "      <td>...</td>\n",
              "      <td>1982.0</td>\n",
              "      <td>1990.0</td>\n",
              "      <td>1.0</td>\n",
              "      <td>14.0</td>\n",
              "      <td>False</td>\n",
              "      <td>0</td>\n",
              "      <td>1</td>\n",
              "      <td>0</td>\n",
              "      <td>0</td>\n",
              "      <td>1</td>\n",
              "    </tr>\n",
              "    <tr>\n",
              "      <th>1</th>\n",
              "      <td>51.0</td>\n",
              "      <td>0.0</td>\n",
              "      <td>587.0</td>\n",
              "      <td>0.0</td>\n",
              "      <td>0.0</td>\n",
              "      <td>0.0</td>\n",
              "      <td>158.0</td>\n",
              "      <td>0.0</td>\n",
              "      <td>0.0</td>\n",
              "      <td>0.0</td>\n",
              "      <td>...</td>\n",
              "      <td>1949.0</td>\n",
              "      <td>1949.0</td>\n",
              "      <td>1.0</td>\n",
              "      <td>55.0</td>\n",
              "      <td>False</td>\n",
              "      <td>0</td>\n",
              "      <td>1</td>\n",
              "      <td>0</td>\n",
              "      <td>0</td>\n",
              "      <td>1</td>\n",
              "    </tr>\n",
              "    <tr>\n",
              "      <th>2</th>\n",
              "      <td>265.0</td>\n",
              "      <td>0.0</td>\n",
              "      <td>1712.0</td>\n",
              "      <td>0.0</td>\n",
              "      <td>0.0</td>\n",
              "      <td>72.0</td>\n",
              "      <td>311.0</td>\n",
              "      <td>0.0</td>\n",
              "      <td>0.0</td>\n",
              "      <td>0.0</td>\n",
              "      <td>...</td>\n",
              "      <td>1946.0</td>\n",
              "      <td>1950.0</td>\n",
              "      <td>1.0</td>\n",
              "      <td>54.0</td>\n",
              "      <td>False</td>\n",
              "      <td>0</td>\n",
              "      <td>1</td>\n",
              "      <td>0</td>\n",
              "      <td>0</td>\n",
              "      <td>1</td>\n",
              "    </tr>\n",
              "    <tr>\n",
              "      <th>3</th>\n",
              "      <td>133.0</td>\n",
              "      <td>2587.0</td>\n",
              "      <td>992.0</td>\n",
              "      <td>55.0</td>\n",
              "      <td>198.0</td>\n",
              "      <td>253.0</td>\n",
              "      <td>291.0</td>\n",
              "      <td>123.0</td>\n",
              "      <td>14.0</td>\n",
              "      <td>207.0</td>\n",
              "      <td>...</td>\n",
              "      <td>2003.0</td>\n",
              "      <td>2004.0</td>\n",
              "      <td>0.0</td>\n",
              "      <td>0.0</td>\n",
              "      <td>False</td>\n",
              "      <td>0</td>\n",
              "      <td>1</td>\n",
              "      <td>0</td>\n",
              "      <td>0</td>\n",
              "      <td>1</td>\n",
              "    </tr>\n",
              "    <tr>\n",
              "      <th>4</th>\n",
              "      <td>8.0</td>\n",
              "      <td>28.0</td>\n",
              "      <td>7.0</td>\n",
              "      <td>0.0</td>\n",
              "      <td>2.0</td>\n",
              "      <td>2.0</td>\n",
              "      <td>0.0</td>\n",
              "      <td>0.0</td>\n",
              "      <td>0.0</td>\n",
              "      <td>1.0</td>\n",
              "      <td>...</td>\n",
              "      <td>2004.0</td>\n",
              "      <td>2004.0</td>\n",
              "      <td>0.0</td>\n",
              "      <td>0.0</td>\n",
              "      <td>False</td>\n",
              "      <td>0</td>\n",
              "      <td>1</td>\n",
              "      <td>0</td>\n",
              "      <td>0</td>\n",
              "      <td>1</td>\n",
              "    </tr>\n",
              "  </tbody>\n",
              "</table>\n",
              "<p>5 rows × 28 columns</p>\n",
              "</div>\n",
              "    <div class=\"colab-df-buttons\">\n",
              "\n",
              "  <div class=\"colab-df-container\">\n",
              "    <button class=\"colab-df-convert\" onclick=\"convertToInteractive('df-46e30431-6a4c-405c-87c7-90ecca0a45fd')\"\n",
              "            title=\"Convert this dataframe to an interactive table.\"\n",
              "            style=\"display:none;\">\n",
              "\n",
              "  <svg xmlns=\"http://www.w3.org/2000/svg\" height=\"24px\" viewBox=\"0 -960 960 960\">\n",
              "    <path d=\"M120-120v-720h720v720H120Zm60-500h600v-160H180v160Zm220 220h160v-160H400v160Zm0 220h160v-160H400v160ZM180-400h160v-160H180v160Zm440 0h160v-160H620v160ZM180-180h160v-160H180v160Zm440 0h160v-160H620v160Z\"/>\n",
              "  </svg>\n",
              "    </button>\n",
              "\n",
              "  <style>\n",
              "    .colab-df-container {\n",
              "      display:flex;\n",
              "      gap: 12px;\n",
              "    }\n",
              "\n",
              "    .colab-df-convert {\n",
              "      background-color: #E8F0FE;\n",
              "      border: none;\n",
              "      border-radius: 50%;\n",
              "      cursor: pointer;\n",
              "      display: none;\n",
              "      fill: #1967D2;\n",
              "      height: 32px;\n",
              "      padding: 0 0 0 0;\n",
              "      width: 32px;\n",
              "    }\n",
              "\n",
              "    .colab-df-convert:hover {\n",
              "      background-color: #E2EBFA;\n",
              "      box-shadow: 0px 1px 2px rgba(60, 64, 67, 0.3), 0px 1px 3px 1px rgba(60, 64, 67, 0.15);\n",
              "      fill: #174EA6;\n",
              "    }\n",
              "\n",
              "    .colab-df-buttons div {\n",
              "      margin-bottom: 4px;\n",
              "    }\n",
              "\n",
              "    [theme=dark] .colab-df-convert {\n",
              "      background-color: #3B4455;\n",
              "      fill: #D2E3FC;\n",
              "    }\n",
              "\n",
              "    [theme=dark] .colab-df-convert:hover {\n",
              "      background-color: #434B5C;\n",
              "      box-shadow: 0px 1px 3px 1px rgba(0, 0, 0, 0.15);\n",
              "      filter: drop-shadow(0px 1px 2px rgba(0, 0, 0, 0.3));\n",
              "      fill: #FFFFFF;\n",
              "    }\n",
              "  </style>\n",
              "\n",
              "    <script>\n",
              "      const buttonEl =\n",
              "        document.querySelector('#df-46e30431-6a4c-405c-87c7-90ecca0a45fd button.colab-df-convert');\n",
              "      buttonEl.style.display =\n",
              "        google.colab.kernel.accessAllowed ? 'block' : 'none';\n",
              "\n",
              "      async function convertToInteractive(key) {\n",
              "        const element = document.querySelector('#df-46e30431-6a4c-405c-87c7-90ecca0a45fd');\n",
              "        const dataTable =\n",
              "          await google.colab.kernel.invokeFunction('convertToInteractive',\n",
              "                                                    [key], {});\n",
              "        if (!dataTable) return;\n",
              "\n",
              "        const docLinkHtml = 'Like what you see? Visit the ' +\n",
              "          '<a target=\"_blank\" href=https://colab.research.google.com/notebooks/data_table.ipynb>data table notebook</a>'\n",
              "          + ' to learn more about interactive tables.';\n",
              "        element.innerHTML = '';\n",
              "        dataTable['output_type'] = 'display_data';\n",
              "        await google.colab.output.renderOutput(dataTable, element);\n",
              "        const docLink = document.createElement('div');\n",
              "        docLink.innerHTML = docLinkHtml;\n",
              "        element.appendChild(docLink);\n",
              "      }\n",
              "    </script>\n",
              "  </div>\n",
              "\n",
              "\n",
              "<div id=\"df-2152a71f-244e-4901-a58b-a329bf39d8f7\">\n",
              "  <button class=\"colab-df-quickchart\" onclick=\"quickchart('df-2152a71f-244e-4901-a58b-a329bf39d8f7')\"\n",
              "            title=\"Suggest charts\"\n",
              "            style=\"display:none;\">\n",
              "\n",
              "<svg xmlns=\"http://www.w3.org/2000/svg\" height=\"24px\"viewBox=\"0 0 24 24\"\n",
              "     width=\"24px\">\n",
              "    <g>\n",
              "        <path d=\"M19 3H5c-1.1 0-2 .9-2 2v14c0 1.1.9 2 2 2h14c1.1 0 2-.9 2-2V5c0-1.1-.9-2-2-2zM9 17H7v-7h2v7zm4 0h-2V7h2v10zm4 0h-2v-4h2v4z\"/>\n",
              "    </g>\n",
              "</svg>\n",
              "  </button>\n",
              "\n",
              "<style>\n",
              "  .colab-df-quickchart {\n",
              "      --bg-color: #E8F0FE;\n",
              "      --fill-color: #1967D2;\n",
              "      --hover-bg-color: #E2EBFA;\n",
              "      --hover-fill-color: #174EA6;\n",
              "      --disabled-fill-color: #AAA;\n",
              "      --disabled-bg-color: #DDD;\n",
              "  }\n",
              "\n",
              "  [theme=dark] .colab-df-quickchart {\n",
              "      --bg-color: #3B4455;\n",
              "      --fill-color: #D2E3FC;\n",
              "      --hover-bg-color: #434B5C;\n",
              "      --hover-fill-color: #FFFFFF;\n",
              "      --disabled-bg-color: #3B4455;\n",
              "      --disabled-fill-color: #666;\n",
              "  }\n",
              "\n",
              "  .colab-df-quickchart {\n",
              "    background-color: var(--bg-color);\n",
              "    border: none;\n",
              "    border-radius: 50%;\n",
              "    cursor: pointer;\n",
              "    display: none;\n",
              "    fill: var(--fill-color);\n",
              "    height: 32px;\n",
              "    padding: 0;\n",
              "    width: 32px;\n",
              "  }\n",
              "\n",
              "  .colab-df-quickchart:hover {\n",
              "    background-color: var(--hover-bg-color);\n",
              "    box-shadow: 0 1px 2px rgba(60, 64, 67, 0.3), 0 1px 3px 1px rgba(60, 64, 67, 0.15);\n",
              "    fill: var(--button-hover-fill-color);\n",
              "  }\n",
              "\n",
              "  .colab-df-quickchart-complete:disabled,\n",
              "  .colab-df-quickchart-complete:disabled:hover {\n",
              "    background-color: var(--disabled-bg-color);\n",
              "    fill: var(--disabled-fill-color);\n",
              "    box-shadow: none;\n",
              "  }\n",
              "\n",
              "  .colab-df-spinner {\n",
              "    border: 2px solid var(--fill-color);\n",
              "    border-color: transparent;\n",
              "    border-bottom-color: var(--fill-color);\n",
              "    animation:\n",
              "      spin 1s steps(1) infinite;\n",
              "  }\n",
              "\n",
              "  @keyframes spin {\n",
              "    0% {\n",
              "      border-color: transparent;\n",
              "      border-bottom-color: var(--fill-color);\n",
              "      border-left-color: var(--fill-color);\n",
              "    }\n",
              "    20% {\n",
              "      border-color: transparent;\n",
              "      border-left-color: var(--fill-color);\n",
              "      border-top-color: var(--fill-color);\n",
              "    }\n",
              "    30% {\n",
              "      border-color: transparent;\n",
              "      border-left-color: var(--fill-color);\n",
              "      border-top-color: var(--fill-color);\n",
              "      border-right-color: var(--fill-color);\n",
              "    }\n",
              "    40% {\n",
              "      border-color: transparent;\n",
              "      border-right-color: var(--fill-color);\n",
              "      border-top-color: var(--fill-color);\n",
              "    }\n",
              "    60% {\n",
              "      border-color: transparent;\n",
              "      border-right-color: var(--fill-color);\n",
              "    }\n",
              "    80% {\n",
              "      border-color: transparent;\n",
              "      border-right-color: var(--fill-color);\n",
              "      border-bottom-color: var(--fill-color);\n",
              "    }\n",
              "    90% {\n",
              "      border-color: transparent;\n",
              "      border-bottom-color: var(--fill-color);\n",
              "    }\n",
              "  }\n",
              "</style>\n",
              "\n",
              "  <script>\n",
              "    async function quickchart(key) {\n",
              "      const quickchartButtonEl =\n",
              "        document.querySelector('#' + key + ' button');\n",
              "      quickchartButtonEl.disabled = true;  // To prevent multiple clicks.\n",
              "      quickchartButtonEl.classList.add('colab-df-spinner');\n",
              "      try {\n",
              "        const charts = await google.colab.kernel.invokeFunction(\n",
              "            'suggestCharts', [key], {});\n",
              "      } catch (error) {\n",
              "        console.error('Error during call to suggestCharts:', error);\n",
              "      }\n",
              "      quickchartButtonEl.classList.remove('colab-df-spinner');\n",
              "      quickchartButtonEl.classList.add('colab-df-quickchart-complete');\n",
              "    }\n",
              "    (() => {\n",
              "      let quickchartButtonEl =\n",
              "        document.querySelector('#df-2152a71f-244e-4901-a58b-a329bf39d8f7 button');\n",
              "      quickchartButtonEl.style.display =\n",
              "        google.colab.kernel.accessAllowed ? 'block' : 'none';\n",
              "    })();\n",
              "  </script>\n",
              "</div>\n",
              "    </div>\n",
              "  </div>\n"
            ],
            "application/vnd.google.colaboratory.intrinsic+json": {
              "type": "dataframe",
              "variable_name": "NBA_Data"
            }
          },
          "metadata": {},
          "execution_count": 7
        }
      ]
    },
    {
      "cell_type": "markdown",
      "source": [
        "**Your task is to use this historical dataset to build a classification model predicting whether or not a given player will be inducted into the NBA Hall of Fame (and the probability thereof). Once you build your model, you will then apply it to select players to invest in.**\n",
        "\n",
        "The goal of this assignment is to develop hands-on experience in developing and evaluating different machine learning models to inform interventions (in this case, investment decisions) and to maximize profitability (**wherein each time you correctly predict that a player will be inducted into the hall of fame, you turn a profit, and every other player captured is considered a loss**). This will be explained in greater detail in Part III of the assignment.\n",
        "\n",
        "The data set includes a target variable (i.e., the class) which indicates whether or not the player has been inducted to the hall of fame. The target variable is binary and has value 1 if the player has been inducted or 0 otherwise.\n",
        "\n",
        "Important Notes:\n",
        "\n",
        "* We assume that a player who has not been inducted 45.4 years after retirement, will not be inducted.\n",
        "* The data includes the actual target variable value for each player. This information is available for this assignment in order to allow you to evaluate the efficacy of investment decisions and to compare amongst investments selected by different models to identify the best model to use in the future. However, in actual deployment, we would not have access to this target variable."
      ],
      "metadata": {
        "id": "wrLSdgb9vLUW"
      }
    },
    {
      "cell_type": "markdown",
      "source": [
        "## **Part I: Building, Evaluating and Comparing Different Machine Learning Models  (20 Points)**"
      ],
      "metadata": {
        "id": "jgTG_R8U0DOR"
      }
    },
    {
      "cell_type": "markdown",
      "source": [
        "**1.1: For the purposes of this assignment, please create and fit a [Decision Tree](https://scikit-learn.org/stable/modules/generated/sklearn.tree.DecisionTreeClassifier.html), [Bagging](https://scikit-learn.org/stable/modules/generated/sklearn.ensemble.BaggingClassifier.html), [Random Forest](https://scikit-learn.org/stable/modules/generated/sklearn.ensemble.RandomForestClassifier.html), [Multinomial Naive Bayes](https://scikit-learn.org/stable/modules/generated/sklearn.naive_bayes.MultinomialNB.html), and [KNeighbors Classifier](https://scikit-learn.org/stable/modules/generated/sklearn.neighbors.KNeighborsClassifier.html) to the data. Compare the results of your models using 10-Fold Cross Validation and display the results here for each model. Feel free to play with the parameters for each model to try and generate better results while keeping in mind best practices to avoid overfitting. (5 Points)**\n",
        "\n",
        "Your goal is to optimize for model accuracy and area under the ROC (use [cross_val_score](https://scikit-learn.org/stable/modules/generated/sklearn.model_selection.cross_val_score.html)); do not worry about profitability at this stage.  \n",
        "\n",
        "Additionally, make sure to split your data into a train and test dataset with the [train_test_split()](https://scikit-learn.org/stable/modules/generated/sklearn.model_selection.train_test_split.html) method. Consider the training data as historical data that you were provided with to develop an investment strategy. The test set includes players, the memorabilia of which you are considering to invest in.\n",
        "\n",
        "**NOTE: When training these models AND splitting the data, you MUST use `random_state=3`. Additionally, please set `test_size = 0.33`. Failure to do so will result in no points being awarded for this question.**"
      ],
      "metadata": {
        "id": "cd5K6Tfo0xhO"
      }
    },
    {
      "cell_type": "code",
      "source": [
        "X = NBA_Data.drop(columns='class')\n",
        "y = NBA_Data['class']\n",
        "\n",
        "X_train, X_test, y_train, y_test = train_test_split(X, y, test_size = 0.33, random_state = 3)"
      ],
      "metadata": {
        "id": "Xun0lnxK3l8b"
      },
      "execution_count": null,
      "outputs": []
    },
    {
      "cell_type": "code",
      "source": [
        "def report_score(mymodel, X, y, mycv):\n",
        "# To use this function, all we need to do is feed it our model of interest, X, y, and the number of folds for cross-validation.\n",
        "    # Calculate and print the cross-validation accuracy\n",
        "    cross_val_accuracy = round(cross_val_score(mymodel, X, y, cv = mycv).mean()*100,2)\n",
        "    print(f\"{mycv}-Fold Cross-Validation Classification Accuracy: {cross_val_accuracy:.2f} %\")\n",
        "\n",
        "    # Calculate and print the cross-validation ROC AUC\n",
        "    cross_val_accuracy_roc_auc = round(cross_val_score(mymodel, X, y, cv =  mycv, scoring = 'roc_auc').mean()*100,2)\n",
        "    print(f\"\\n{mycv}-Fold Cross-Validation ROC AUC: {cross_val_accuracy_roc_auc:.2f} %\")"
      ],
      "metadata": {
        "id": "SN5EfHTrbGVZ"
      },
      "execution_count": null,
      "outputs": []
    },
    {
      "cell_type": "code",
      "source": [
        "# # Decision tree model\n",
        "tree_model = DecisionTreeClassifier(criterion = 'entropy', random_state = 3).fit(X_train,y_train)\n",
        "report_score(tree_model, X_train, y_train, 10)"
      ],
      "metadata": {
        "id": "utoHVfM2bPJr",
        "colab": {
          "base_uri": "https://localhost:8080/"
        },
        "outputId": "a1c62583-377f-4342-9454-fa5d6f16da4e"
      },
      "execution_count": null,
      "outputs": [
        {
          "output_type": "stream",
          "name": "stdout",
          "text": [
            "10-Fold Cross-Validation Classification Accuracy: 97.29 %\n",
            "\n",
            "10-Fold Cross-Validation ROC AUC: 91.69 %\n"
          ]
        }
      ]
    },
    {
      "cell_type": "code",
      "source": [
        "# # Bagging model\n",
        "base_model = DecisionTreeClassifier(criterion = 'entropy', random_state = 3)\n",
        "bagging_model = BaggingClassifier(estimator = base_model, n_estimators = 70, random_state = 3).fit(X_train, y_train)\n",
        "report_score(bagging_model, X_train, y_train, 10)"
      ],
      "metadata": {
        "id": "B0uPqPdYfptB",
        "colab": {
          "base_uri": "https://localhost:8080/"
        },
        "outputId": "82cbf775-c183-4576-a0b8-769aa21d6cec"
      },
      "execution_count": null,
      "outputs": [
        {
          "output_type": "stream",
          "name": "stdout",
          "text": [
            "10-Fold Cross-Validation Classification Accuracy: 97.28 %\n",
            "\n",
            "10-Fold Cross-Validation ROC AUC: 97.79 %\n"
          ]
        }
      ]
    },
    {
      "cell_type": "code",
      "source": [
        "# Random forest model\n",
        "random_forest_model = RandomForestClassifier(criterion = 'entropy', n_estimators = 100).fit(X_train,y_train)\n",
        "report_score(random_forest_model, X_train, y_train, 10)"
      ],
      "metadata": {
        "id": "U9K3UlApg9Z0",
        "colab": {
          "base_uri": "https://localhost:8080/"
        },
        "outputId": "efda64dc-1974-43bc-8778-e96095a88d90"
      },
      "execution_count": null,
      "outputs": [
        {
          "output_type": "stream",
          "name": "stdout",
          "text": [
            "10-Fold Cross-Validation Classification Accuracy: 98.49 %\n",
            "\n",
            "10-Fold Cross-Validation ROC AUC: 97.95 %\n"
          ]
        }
      ]
    },
    {
      "cell_type": "code",
      "source": [
        "# # Multinomial Naive Bayes - can change parameters using documentation\n",
        "nbayes_model = MultinomialNB().fit(X_train,y_train)\n",
        "report_score(nbayes_model, X_train, y_train, 10)"
      ],
      "metadata": {
        "id": "sop5yCUsTknf",
        "colab": {
          "base_uri": "https://localhost:8080/"
        },
        "outputId": "8a346f3a-9ad7-447f-90a3-0a713c041a3f"
      },
      "execution_count": null,
      "outputs": [
        {
          "output_type": "stream",
          "name": "stdout",
          "text": [
            "10-Fold Cross-Validation Classification Accuracy: 88.25 %\n",
            "\n",
            "10-Fold Cross-Validation ROC AUC: 92.15 %\n"
          ]
        }
      ]
    },
    {
      "cell_type": "code",
      "source": [
        "# # KNearest Neighbors Classifier\n",
        "knearest_model = KNeighborsClassifier(n_neighbors = 5).fit(X_train,y_train)\n",
        "report_score(knearest_model, X_train, y_train, 10)"
      ],
      "metadata": {
        "id": "jvPh7vriTk4j",
        "colab": {
          "base_uri": "https://localhost:8080/"
        },
        "outputId": "234bc38e-5339-4850-fb26-0e41c4c3a535"
      },
      "execution_count": null,
      "outputs": [
        {
          "output_type": "stream",
          "name": "stdout",
          "text": [
            "10-Fold Cross-Validation Classification Accuracy: 97.28 %\n",
            "\n",
            "10-Fold Cross-Validation ROC AUC: 88.65 %\n"
          ]
        }
      ]
    },
    {
      "cell_type": "markdown",
      "source": [
        "**1.2: Using classification accuracy rate as the evaluation measure, which model best predicts whether or not a player will be inducted? (5 points)**"
      ],
      "metadata": {
        "id": "k0gc1MNB-4H_"
      }
    },
    {
      "cell_type": "markdown",
      "source": [
        "The random forest model lhas the highest classification accuracy of 98.49%."
      ],
      "metadata": {
        "id": "Ya6PNhWi_Au2"
      }
    },
    {
      "cell_type": "markdown",
      "source": [
        "**1.3: Using the area under the ROC, which model yields the largest area under the ROC? (5 points)**"
      ],
      "metadata": {
        "id": "is6cJNJt_FQF"
      }
    },
    {
      "cell_type": "markdown",
      "source": [
        "Using area under the ROC, the random forest model also has the highest accuracy of 97.84%."
      ],
      "metadata": {
        "id": "0LB5Ndxs_L7w"
      }
    },
    {
      "cell_type": "markdown",
      "source": [
        "**1.4: Given your goal is to identify and invest in a set of players likely to be inducted to the Hall of Fame, which of the two measures above (classification accuracy rate or ROC area) is more appropriate for selecting the model to inform your investments? Explain your answer. (5 Points)**\n",
        "\n",
        "Note that while classification accuracy rate and ROC area may often agree, in some cases the classification accuracy of two models may be comparable, while the ROC area of one may be larger than the other."
      ],
      "metadata": {
        "id": "uQ94a5HjAzVV"
      }
    },
    {
      "cell_type": "markdown",
      "source": [
        "ROC area is the more appropriate measure to use when deciding investments. This is because it gives the proportion of true positives vs false positives. Thhis can be used to assess the costs and benefits associated with the predictions from each model."
      ],
      "metadata": {
        "id": "8N7jV5tBA8fE"
      }
    },
    {
      "cell_type": "markdown",
      "source": [
        "## **Part II: Analysis and Model Improvement (40 Points)**"
      ],
      "metadata": {
        "id": "SV-TQjOV0IKl"
      }
    },
    {
      "cell_type": "markdown",
      "source": [
        "**2.1: Using a [correlation matrix](https://pandas.pydata.org/docs/reference/api/pandas.DataFrame.corr.html) on the dataframe, list the three best predictors of a player’s future induction to the hall of fame (in other words, the three best predictors of the column 'class'). Explain why correlation is a valid ranking measure in this scenario.**\n",
        "\n",
        "**Additionally, please explore further measures for evaluating the significance of features using the [SelectKBest](https://scikit-learn.org/stable/modules/generated/sklearn.feature_selection.SelectKBest.html) function, specificially focusing on \"Mutual information\" and \"Chi-square.\" Is there a consensus among the correlation matrix, mutual information, and chi-square regarding the top three features? (10 points)**\n",
        "\n",
        "To help you get started, we have provided some psuedo-code for you below."
      ],
      "metadata": {
        "id": "Bs3uNGOFGMEz"
      }
    },
    {
      "cell_type": "code",
      "source": [
        "# Correlation Matrix:\n",
        "\n",
        "corr_matrix = NBA_Data.corr(method='pearson', min_periods=1)\n",
        "correlations_class = corr_matrix['class'].sort_values(ascending=False).head(4)\n",
        "print(\"Top 3 Features Based on Correlation:\", correlations_class)\n",
        "\n",
        "# Mutual Information:\n",
        "\n",
        "mutual_info_selector = SelectKBest(mutual_info_classif, k=3)\n",
        "X_mutual_info = mutual_info_selector.fit_transform(X, y)\n",
        "mutual_info_feat = X.columns[mutual_info_selector.get_support()]\n",
        "print(\"Top 3 Features Based on Information Gain:\", mutual_info_feat)\n",
        "\n",
        "# Chi-Square:\n",
        "\n",
        "chi2_selector = SelectKBest(chi2, k=3)\n",
        "X_chi2_info = chi2_selector.fit_transform(X, y)\n",
        "chi2_feat = X.columns[chi2_selector.get_support()]\n",
        "print(\"Top 3 Features Based on Chi2:\", chi2_feat)"
      ],
      "metadata": {
        "id": "3xVGhe0tHAT9",
        "colab": {
          "base_uri": "https://localhost:8080/"
        },
        "outputId": "4fc9676d-ce6d-4315-cd75-ff4bd6b80288"
      },
      "execution_count": null,
      "outputs": [
        {
          "output_type": "stream",
          "name": "stdout",
          "text": [
            "Top 3 Features Based on Correlation: class    1.000000\n",
            "ftm      0.712440\n",
            "fta      0.711321\n",
            "fga      0.688851\n",
            "Name: class, dtype: float64\n",
            "Top 3 Features Based on Information Gain: Index(['fga', 'fta', 'ftm'], dtype='object')\n",
            "Top 3 Features Based on Chi2: Index(['minutes', 'pts', 'fga'], dtype='object')\n"
          ]
        }
      ]
    },
    {
      "cell_type": "markdown",
      "source": [
        "It's valid to use correlation as a ranking measure because we are assuming that players who got into the Hall of Fame have similar stats/features. So the higher the correlation of features to the target variable, the more predictive those features will be.\n",
        "\n",
        "All three models agree that fga is one of the top three predictors. The correlation matrix and mututal information have the same three features (ftm, fta, fga), but ranked in a different order. Chi-square ranks minutes and points as features with the highest predictive power."
      ],
      "metadata": {
        "id": "Og_7U9aML12K"
      }
    },
    {
      "cell_type": "markdown",
      "source": [
        "**2.2: Most predictors reflect career statistics such as points, assists, and rebounds represent a cumulative value, over a player’s career. Do you believe this an informative predictor for both young and older players’ likelihood of being inducted to the Hall of Fame? Explain your answer. (10 points)**\n",
        "\n",
        "If your answer is no, please suggest how these attributes may be revised such that they useful information to predict a player’s merit.\n",
        "\n",
        "If your answer is yes, comment on why the cumulative values may contain predictive information on a player’s likelihood of being inducted."
      ],
      "metadata": {
        "id": "yryneWduQY2T"
      }
    },
    {
      "cell_type": "markdown",
      "source": [
        "No, we do not think this is an informative predictor. For younger players, relying solely on cumulative career statistics might not accurately predict their likelihood of Hall of Fame induction. Young players may not have enough years in the league to have enough data for the mdoel to predict. Also their potential for future growth and impact on the game may not be fully captured by looking solely at past statistics.\n",
        "\n",
        "For older players it might be the opposite, because relying on only these stats does not take into consideration other things that go when deciding Hall of Fame Induction. Other factors such as impact on the game, leadership qualities, playoff performances, and awards also play a huge role in the Hall of Fame induction.\n",
        "\n",
        "To improve the predictive power of career statistics for Hall of Fame induction, additional attributes should be considered. Including stats like Player Efficiency, championships won, MVP awards, making it to all-stars, and contributions to the team success should be integrated in the model. By adding all of these features, we would get a more hollistic approach about whether a player is suited for the Hall of Fame Induction.\n",
        "\n",
        "\n"
      ],
      "metadata": {
        "id": "XxtJMi33QmtR"
      }
    },
    {
      "cell_type": "markdown",
      "source": [
        "**2.3: Improving Model Performance (20 Points)**\n",
        "\n",
        "As discussed in class, an important step in developing predictive models involves three general strategies:\n",
        "\n",
        "1. Removing predictors (features or variables) that do not improve or undermine out-of-sample prediction performance (due to overfitting)\n",
        "\n",
        "2. Adding new information that is not included in the current data set (i.e., birth place of a player)\n",
        "\n",
        "3. Constructing new variables (i.e feature construction/engineering)\n",
        "\n",
        "  * New variables can be constructed by applying transformations on existing variables, such as calculating the average career points per game frm the cumulative number of poiints, or by producing a funtion using multiple variables (for example, computing the product or ratio of the number of points and the number of rebounds).\n",
        "\n",
        "**Your task is to start with your best model up to this point and aim to improve this model by performing one of the three strategies mentioned above.** In other words, perform feature selection, engineering or a combination of the two!"
      ],
      "metadata": {
        "id": "zn11BXMiQ5A-"
      }
    },
    {
      "cell_type": "markdown",
      "source": [
        "There are many different ways to approach this. One way is to engineer some features, perform feature selection through the filter or wrapper method, and then re-optimize your model to better work with your new dataset. You may also simply only remove features or only add features. **Regardless of which approach you choose, please provide a written description of your approach and the steps you took so we have a clear understanding of what you attempted!**\n",
        "\n",
        "**Additionally, to evaluate whether the changes you have made yield an improvement, examine and report the difference in model performance before and after the change(s) made through 10-fold cross-validation and the measure of performance that you suggested in 1.4. You should also report your final (best) model's performance based on classification accuracy and area under the ROC.**"
      ],
      "metadata": {
        "id": "SaiF-yLCk9Nj"
      }
    },
    {
      "cell_type": "markdown",
      "source": [
        "As a general guideline, be sure to add plenty of documentation/ comments and make sure your final submission of your code in this question is clean and organized.\n",
        "\n",
        "  * For example, if you find that the removal of an existing variable improves your model, specify which variables were removed.\n",
        "  * If you attempt feature engineering, describe all your attempts to produce new variables (even if the change did not improve the model) and outline what the new variables where and what was the effect on your model’s performance.\n",
        "\n",
        "It is not unusual to spend the majority of your time on this step. In fact, we encourage this; teams that spend more time on this step have a higher chance of placing in the competition!"
      ],
      "metadata": {
        "id": "gmfaPVvYlA51"
      }
    },
    {
      "cell_type": "markdown",
      "source": [
        "**Two other things to keep in mind:**\n",
        "\n",
        "1. Make sure any modifications made to the data are applied to the entire data set and that you re-do the code for setting X, y, and the train_test_split before you evaluate your changes.\n",
        "\n",
        "2. The data is not entirely without its faults. For example, you may notice there are no null values, but 0s could be placeholders for these values. Additionally, does the context about three-point shots not being recorded until 1979 have an impact? Does the player's first season match when the data was being collected? How can you approach these issues? Are there any other issues in the data?\n",
        "\n",
        "Good luck and try your best with this question!"
      ],
      "metadata": {
        "id": "qOb2i2p9lE7L"
      }
    },
    {
      "cell_type": "code",
      "source": [
        "'''\n",
        "Feature engineering:\n",
        " - convert 0s to NAs (minutes, )\n",
        " - normalize features (features to games, games to years)\n",
        " - figure out way to account for 3 point shots\n",
        " - figure out way to deal with steals, blocks, and turnovers\n",
        "\n",
        "Feature selection\n",
        " - test correlation/predictive power of new features\n",
        " - use filter/wrapper method for selecting features\n",
        "\n",
        "Predictive Performance Evaluation\n",
        " - test for accuracy and ROC AUC\n",
        " - also make correlation matrix to see true and false positives (useful for costs/profit later)\n",
        "'''"
      ],
      "metadata": {
        "id": "tneRPsz0iF1D",
        "colab": {
          "base_uri": "https://localhost:8080/",
          "height": 88
        },
        "outputId": "1082c16c-13d8-4572-d73d-fc12055fdbb0"
      },
      "execution_count": null,
      "outputs": [
        {
          "output_type": "execute_result",
          "data": {
            "text/plain": [
              "'\\nFeature engineering:\\n - convert 0s to NAs (minutes, )\\n - normalize features (features to games, games to years)\\n - figure out way to account for 3 point shots\\n - figure out way to deal with steals, blocks, and turnovers\\n\\nFeature selection\\n - test correlation/predictive power of new features\\n - use filter/wrapper method for selecting features\\n\\nPredictive Performance Evaluation\\n - test for accuracy and ROC AUC\\n - also make correlation matrix to see true and false positives (useful for costs/profit later)\\n'"
            ],
            "application/vnd.google.colaboratory.intrinsic+json": {
              "type": "string"
            }
          },
          "metadata": {},
          "execution_count": 16
        }
      ]
    },
    {
      "cell_type": "markdown",
      "source": [
        "##Feature Engineering"
      ],
      "metadata": {
        "id": "A-Xm3EgQIV5R"
      }
    },
    {
      "cell_type": "code",
      "source": [
        "# Replace 0s and missing data with with column means\n",
        "NBA_Data['minutes'].replace(0, NBA_Data['minutes'].astype(\"float\").mean(axis=0), inplace=True)\n",
        "NBA_Data['tpa'].replace(0, NBA_Data['tpa'].astype(\"float\").mean(axis=0), inplace=True)\n",
        "NBA_Data['tpm'].replace(0, NBA_Data['tpm'].astype(\"float\").mean(axis=0), inplace=True)\n",
        "NBA_Data['stl'].replace(0, NBA_Data['stl'].astype(\"float\").mean(axis=0), inplace=True)\n",
        "NBA_Data['blk'].replace(0, NBA_Data['blk'].astype(\"float\").mean(axis=0), inplace=True)\n",
        "NBA_Data['turnover'].replace(0, NBA_Data['turnover'].astype(\"float\").mean(axis=0), inplace=True)"
      ],
      "metadata": {
        "id": "M_1pBPF66x10"
      },
      "execution_count": null,
      "outputs": []
    },
    {
      "cell_type": "code",
      "source": [
        "'''\n",
        "Create new normalized features\n",
        " - Ratio of stats per game\n",
        "'''\n",
        "start_column_index = 1\n",
        "end_column_index = 17\n",
        "\n",
        "for column in NBA_Data.iloc[:, start_column_index:end_column_index]:\n",
        "    NBA_Data[str(column)+'_per_game'] = NBA_Data[column]/NBA_Data['games']"
      ],
      "metadata": {
        "id": "mHUdZq_p__Ay"
      },
      "execution_count": null,
      "outputs": []
    },
    {
      "cell_type": "code",
      "source": [
        "NBA_Data.head()"
      ],
      "metadata": {
        "colab": {
          "base_uri": "https://localhost:8080/",
          "height": 255
        },
        "id": "6mnVNtM3BnjP",
        "outputId": "04dc3ece-451f-4728-d673-30678598d5c0"
      },
      "execution_count": null,
      "outputs": [
        {
          "output_type": "execute_result",
          "data": {
            "text/plain": [
              "   games      minutes     pts  offReb  defReb     reb   asts         stl  \\\n",
              "0  408.0  9825.000000  5232.0   476.0   824.0  1300.0  866.0  265.000000   \n",
              "1   51.0  6892.183838   587.0     0.0     0.0     0.0  158.0  164.159596   \n",
              "2  265.0  6892.183838  1712.0     0.0     0.0    72.0  311.0  164.159596   \n",
              "3  133.0  2587.000000   992.0    55.0   198.0   253.0  291.0  123.000000   \n",
              "4    8.0    28.000000     7.0     0.0     2.0     2.0    0.0  164.159596   \n",
              "\n",
              "          blk    turnover  ...  stl_per_game  blk_per_game  turnover_per_game  \\\n",
              "0  175.000000  700.000000  ...      0.649510      0.428922           1.715686   \n",
              "1   87.652525  291.529293  ...      3.218816      1.718677           5.716261   \n",
              "2   87.652525  291.529293  ...      0.619470      0.330764           1.100111   \n",
              "3   14.000000  207.000000  ...      0.924812      0.105263           1.556391   \n",
              "4   87.652525    1.000000  ...     20.519949     10.956566           0.125000   \n",
              "\n",
              "   pf_per_game  fga_per_game  fgm_per_game  fta_per_game  ftm_per_game  \\\n",
              "0     2.975490      9.985294      4.977941      3.664216      2.757353   \n",
              "1     2.235294     12.156863      4.352941      3.549020      2.803922   \n",
              "2     1.479245      8.264151      2.471698      2.339623      1.516981   \n",
              "3     2.338346      6.195489      2.842105      0.977444      0.766917   \n",
              "4     0.500000      0.750000      0.250000      0.625000      0.375000   \n",
              "\n",
              "   tpa_per_game  tpm_per_game  \n",
              "0      0.375000      0.110294  \n",
              "1      3.006100      1.027372  \n",
              "2      0.578532      0.197721  \n",
              "3      2.624060      1.007519  \n",
              "4     19.163889      6.549495  \n",
              "\n",
              "[5 rows x 44 columns]"
            ],
            "text/html": [
              "\n",
              "  <div id=\"df-74f1951c-24c3-4133-ad83-b6e9c889f911\" class=\"colab-df-container\">\n",
              "    <div>\n",
              "<style scoped>\n",
              "    .dataframe tbody tr th:only-of-type {\n",
              "        vertical-align: middle;\n",
              "    }\n",
              "\n",
              "    .dataframe tbody tr th {\n",
              "        vertical-align: top;\n",
              "    }\n",
              "\n",
              "    .dataframe thead th {\n",
              "        text-align: right;\n",
              "    }\n",
              "</style>\n",
              "<table border=\"1\" class=\"dataframe\">\n",
              "  <thead>\n",
              "    <tr style=\"text-align: right;\">\n",
              "      <th></th>\n",
              "      <th>games</th>\n",
              "      <th>minutes</th>\n",
              "      <th>pts</th>\n",
              "      <th>offReb</th>\n",
              "      <th>defReb</th>\n",
              "      <th>reb</th>\n",
              "      <th>asts</th>\n",
              "      <th>stl</th>\n",
              "      <th>blk</th>\n",
              "      <th>turnover</th>\n",
              "      <th>...</th>\n",
              "      <th>stl_per_game</th>\n",
              "      <th>blk_per_game</th>\n",
              "      <th>turnover_per_game</th>\n",
              "      <th>pf_per_game</th>\n",
              "      <th>fga_per_game</th>\n",
              "      <th>fgm_per_game</th>\n",
              "      <th>fta_per_game</th>\n",
              "      <th>ftm_per_game</th>\n",
              "      <th>tpa_per_game</th>\n",
              "      <th>tpm_per_game</th>\n",
              "    </tr>\n",
              "  </thead>\n",
              "  <tbody>\n",
              "    <tr>\n",
              "      <th>0</th>\n",
              "      <td>408.0</td>\n",
              "      <td>9825.000000</td>\n",
              "      <td>5232.0</td>\n",
              "      <td>476.0</td>\n",
              "      <td>824.0</td>\n",
              "      <td>1300.0</td>\n",
              "      <td>866.0</td>\n",
              "      <td>265.000000</td>\n",
              "      <td>175.000000</td>\n",
              "      <td>700.000000</td>\n",
              "      <td>...</td>\n",
              "      <td>0.649510</td>\n",
              "      <td>0.428922</td>\n",
              "      <td>1.715686</td>\n",
              "      <td>2.975490</td>\n",
              "      <td>9.985294</td>\n",
              "      <td>4.977941</td>\n",
              "      <td>3.664216</td>\n",
              "      <td>2.757353</td>\n",
              "      <td>0.375000</td>\n",
              "      <td>0.110294</td>\n",
              "    </tr>\n",
              "    <tr>\n",
              "      <th>1</th>\n",
              "      <td>51.0</td>\n",
              "      <td>6892.183838</td>\n",
              "      <td>587.0</td>\n",
              "      <td>0.0</td>\n",
              "      <td>0.0</td>\n",
              "      <td>0.0</td>\n",
              "      <td>158.0</td>\n",
              "      <td>164.159596</td>\n",
              "      <td>87.652525</td>\n",
              "      <td>291.529293</td>\n",
              "      <td>...</td>\n",
              "      <td>3.218816</td>\n",
              "      <td>1.718677</td>\n",
              "      <td>5.716261</td>\n",
              "      <td>2.235294</td>\n",
              "      <td>12.156863</td>\n",
              "      <td>4.352941</td>\n",
              "      <td>3.549020</td>\n",
              "      <td>2.803922</td>\n",
              "      <td>3.006100</td>\n",
              "      <td>1.027372</td>\n",
              "    </tr>\n",
              "    <tr>\n",
              "      <th>2</th>\n",
              "      <td>265.0</td>\n",
              "      <td>6892.183838</td>\n",
              "      <td>1712.0</td>\n",
              "      <td>0.0</td>\n",
              "      <td>0.0</td>\n",
              "      <td>72.0</td>\n",
              "      <td>311.0</td>\n",
              "      <td>164.159596</td>\n",
              "      <td>87.652525</td>\n",
              "      <td>291.529293</td>\n",
              "      <td>...</td>\n",
              "      <td>0.619470</td>\n",
              "      <td>0.330764</td>\n",
              "      <td>1.100111</td>\n",
              "      <td>1.479245</td>\n",
              "      <td>8.264151</td>\n",
              "      <td>2.471698</td>\n",
              "      <td>2.339623</td>\n",
              "      <td>1.516981</td>\n",
              "      <td>0.578532</td>\n",
              "      <td>0.197721</td>\n",
              "    </tr>\n",
              "    <tr>\n",
              "      <th>3</th>\n",
              "      <td>133.0</td>\n",
              "      <td>2587.000000</td>\n",
              "      <td>992.0</td>\n",
              "      <td>55.0</td>\n",
              "      <td>198.0</td>\n",
              "      <td>253.0</td>\n",
              "      <td>291.0</td>\n",
              "      <td>123.000000</td>\n",
              "      <td>14.000000</td>\n",
              "      <td>207.000000</td>\n",
              "      <td>...</td>\n",
              "      <td>0.924812</td>\n",
              "      <td>0.105263</td>\n",
              "      <td>1.556391</td>\n",
              "      <td>2.338346</td>\n",
              "      <td>6.195489</td>\n",
              "      <td>2.842105</td>\n",
              "      <td>0.977444</td>\n",
              "      <td>0.766917</td>\n",
              "      <td>2.624060</td>\n",
              "      <td>1.007519</td>\n",
              "    </tr>\n",
              "    <tr>\n",
              "      <th>4</th>\n",
              "      <td>8.0</td>\n",
              "      <td>28.000000</td>\n",
              "      <td>7.0</td>\n",
              "      <td>0.0</td>\n",
              "      <td>2.0</td>\n",
              "      <td>2.0</td>\n",
              "      <td>0.0</td>\n",
              "      <td>164.159596</td>\n",
              "      <td>87.652525</td>\n",
              "      <td>1.000000</td>\n",
              "      <td>...</td>\n",
              "      <td>20.519949</td>\n",
              "      <td>10.956566</td>\n",
              "      <td>0.125000</td>\n",
              "      <td>0.500000</td>\n",
              "      <td>0.750000</td>\n",
              "      <td>0.250000</td>\n",
              "      <td>0.625000</td>\n",
              "      <td>0.375000</td>\n",
              "      <td>19.163889</td>\n",
              "      <td>6.549495</td>\n",
              "    </tr>\n",
              "  </tbody>\n",
              "</table>\n",
              "<p>5 rows × 44 columns</p>\n",
              "</div>\n",
              "    <div class=\"colab-df-buttons\">\n",
              "\n",
              "  <div class=\"colab-df-container\">\n",
              "    <button class=\"colab-df-convert\" onclick=\"convertToInteractive('df-74f1951c-24c3-4133-ad83-b6e9c889f911')\"\n",
              "            title=\"Convert this dataframe to an interactive table.\"\n",
              "            style=\"display:none;\">\n",
              "\n",
              "  <svg xmlns=\"http://www.w3.org/2000/svg\" height=\"24px\" viewBox=\"0 -960 960 960\">\n",
              "    <path d=\"M120-120v-720h720v720H120Zm60-500h600v-160H180v160Zm220 220h160v-160H400v160Zm0 220h160v-160H400v160ZM180-400h160v-160H180v160Zm440 0h160v-160H620v160ZM180-180h160v-160H180v160Zm440 0h160v-160H620v160Z\"/>\n",
              "  </svg>\n",
              "    </button>\n",
              "\n",
              "  <style>\n",
              "    .colab-df-container {\n",
              "      display:flex;\n",
              "      gap: 12px;\n",
              "    }\n",
              "\n",
              "    .colab-df-convert {\n",
              "      background-color: #E8F0FE;\n",
              "      border: none;\n",
              "      border-radius: 50%;\n",
              "      cursor: pointer;\n",
              "      display: none;\n",
              "      fill: #1967D2;\n",
              "      height: 32px;\n",
              "      padding: 0 0 0 0;\n",
              "      width: 32px;\n",
              "    }\n",
              "\n",
              "    .colab-df-convert:hover {\n",
              "      background-color: #E2EBFA;\n",
              "      box-shadow: 0px 1px 2px rgba(60, 64, 67, 0.3), 0px 1px 3px 1px rgba(60, 64, 67, 0.15);\n",
              "      fill: #174EA6;\n",
              "    }\n",
              "\n",
              "    .colab-df-buttons div {\n",
              "      margin-bottom: 4px;\n",
              "    }\n",
              "\n",
              "    [theme=dark] .colab-df-convert {\n",
              "      background-color: #3B4455;\n",
              "      fill: #D2E3FC;\n",
              "    }\n",
              "\n",
              "    [theme=dark] .colab-df-convert:hover {\n",
              "      background-color: #434B5C;\n",
              "      box-shadow: 0px 1px 3px 1px rgba(0, 0, 0, 0.15);\n",
              "      filter: drop-shadow(0px 1px 2px rgba(0, 0, 0, 0.3));\n",
              "      fill: #FFFFFF;\n",
              "    }\n",
              "  </style>\n",
              "\n",
              "    <script>\n",
              "      const buttonEl =\n",
              "        document.querySelector('#df-74f1951c-24c3-4133-ad83-b6e9c889f911 button.colab-df-convert');\n",
              "      buttonEl.style.display =\n",
              "        google.colab.kernel.accessAllowed ? 'block' : 'none';\n",
              "\n",
              "      async function convertToInteractive(key) {\n",
              "        const element = document.querySelector('#df-74f1951c-24c3-4133-ad83-b6e9c889f911');\n",
              "        const dataTable =\n",
              "          await google.colab.kernel.invokeFunction('convertToInteractive',\n",
              "                                                    [key], {});\n",
              "        if (!dataTable) return;\n",
              "\n",
              "        const docLinkHtml = 'Like what you see? Visit the ' +\n",
              "          '<a target=\"_blank\" href=https://colab.research.google.com/notebooks/data_table.ipynb>data table notebook</a>'\n",
              "          + ' to learn more about interactive tables.';\n",
              "        element.innerHTML = '';\n",
              "        dataTable['output_type'] = 'display_data';\n",
              "        await google.colab.output.renderOutput(dataTable, element);\n",
              "        const docLink = document.createElement('div');\n",
              "        docLink.innerHTML = docLinkHtml;\n",
              "        element.appendChild(docLink);\n",
              "      }\n",
              "    </script>\n",
              "  </div>\n",
              "\n",
              "\n",
              "<div id=\"df-a2a27e8c-421e-4b25-ab21-fdd6135e2784\">\n",
              "  <button class=\"colab-df-quickchart\" onclick=\"quickchart('df-a2a27e8c-421e-4b25-ab21-fdd6135e2784')\"\n",
              "            title=\"Suggest charts\"\n",
              "            style=\"display:none;\">\n",
              "\n",
              "<svg xmlns=\"http://www.w3.org/2000/svg\" height=\"24px\"viewBox=\"0 0 24 24\"\n",
              "     width=\"24px\">\n",
              "    <g>\n",
              "        <path d=\"M19 3H5c-1.1 0-2 .9-2 2v14c0 1.1.9 2 2 2h14c1.1 0 2-.9 2-2V5c0-1.1-.9-2-2-2zM9 17H7v-7h2v7zm4 0h-2V7h2v10zm4 0h-2v-4h2v4z\"/>\n",
              "    </g>\n",
              "</svg>\n",
              "  </button>\n",
              "\n",
              "<style>\n",
              "  .colab-df-quickchart {\n",
              "      --bg-color: #E8F0FE;\n",
              "      --fill-color: #1967D2;\n",
              "      --hover-bg-color: #E2EBFA;\n",
              "      --hover-fill-color: #174EA6;\n",
              "      --disabled-fill-color: #AAA;\n",
              "      --disabled-bg-color: #DDD;\n",
              "  }\n",
              "\n",
              "  [theme=dark] .colab-df-quickchart {\n",
              "      --bg-color: #3B4455;\n",
              "      --fill-color: #D2E3FC;\n",
              "      --hover-bg-color: #434B5C;\n",
              "      --hover-fill-color: #FFFFFF;\n",
              "      --disabled-bg-color: #3B4455;\n",
              "      --disabled-fill-color: #666;\n",
              "  }\n",
              "\n",
              "  .colab-df-quickchart {\n",
              "    background-color: var(--bg-color);\n",
              "    border: none;\n",
              "    border-radius: 50%;\n",
              "    cursor: pointer;\n",
              "    display: none;\n",
              "    fill: var(--fill-color);\n",
              "    height: 32px;\n",
              "    padding: 0;\n",
              "    width: 32px;\n",
              "  }\n",
              "\n",
              "  .colab-df-quickchart:hover {\n",
              "    background-color: var(--hover-bg-color);\n",
              "    box-shadow: 0 1px 2px rgba(60, 64, 67, 0.3), 0 1px 3px 1px rgba(60, 64, 67, 0.15);\n",
              "    fill: var(--button-hover-fill-color);\n",
              "  }\n",
              "\n",
              "  .colab-df-quickchart-complete:disabled,\n",
              "  .colab-df-quickchart-complete:disabled:hover {\n",
              "    background-color: var(--disabled-bg-color);\n",
              "    fill: var(--disabled-fill-color);\n",
              "    box-shadow: none;\n",
              "  }\n",
              "\n",
              "  .colab-df-spinner {\n",
              "    border: 2px solid var(--fill-color);\n",
              "    border-color: transparent;\n",
              "    border-bottom-color: var(--fill-color);\n",
              "    animation:\n",
              "      spin 1s steps(1) infinite;\n",
              "  }\n",
              "\n",
              "  @keyframes spin {\n",
              "    0% {\n",
              "      border-color: transparent;\n",
              "      border-bottom-color: var(--fill-color);\n",
              "      border-left-color: var(--fill-color);\n",
              "    }\n",
              "    20% {\n",
              "      border-color: transparent;\n",
              "      border-left-color: var(--fill-color);\n",
              "      border-top-color: var(--fill-color);\n",
              "    }\n",
              "    30% {\n",
              "      border-color: transparent;\n",
              "      border-left-color: var(--fill-color);\n",
              "      border-top-color: var(--fill-color);\n",
              "      border-right-color: var(--fill-color);\n",
              "    }\n",
              "    40% {\n",
              "      border-color: transparent;\n",
              "      border-right-color: var(--fill-color);\n",
              "      border-top-color: var(--fill-color);\n",
              "    }\n",
              "    60% {\n",
              "      border-color: transparent;\n",
              "      border-right-color: var(--fill-color);\n",
              "    }\n",
              "    80% {\n",
              "      border-color: transparent;\n",
              "      border-right-color: var(--fill-color);\n",
              "      border-bottom-color: var(--fill-color);\n",
              "    }\n",
              "    90% {\n",
              "      border-color: transparent;\n",
              "      border-bottom-color: var(--fill-color);\n",
              "    }\n",
              "  }\n",
              "</style>\n",
              "\n",
              "  <script>\n",
              "    async function quickchart(key) {\n",
              "      const quickchartButtonEl =\n",
              "        document.querySelector('#' + key + ' button');\n",
              "      quickchartButtonEl.disabled = true;  // To prevent multiple clicks.\n",
              "      quickchartButtonEl.classList.add('colab-df-spinner');\n",
              "      try {\n",
              "        const charts = await google.colab.kernel.invokeFunction(\n",
              "            'suggestCharts', [key], {});\n",
              "      } catch (error) {\n",
              "        console.error('Error during call to suggestCharts:', error);\n",
              "      }\n",
              "      quickchartButtonEl.classList.remove('colab-df-spinner');\n",
              "      quickchartButtonEl.classList.add('colab-df-quickchart-complete');\n",
              "    }\n",
              "    (() => {\n",
              "      let quickchartButtonEl =\n",
              "        document.querySelector('#df-a2a27e8c-421e-4b25-ab21-fdd6135e2784 button');\n",
              "      quickchartButtonEl.style.display =\n",
              "        google.colab.kernel.accessAllowed ? 'block' : 'none';\n",
              "    })();\n",
              "  </script>\n",
              "</div>\n",
              "    </div>\n",
              "  </div>\n"
            ],
            "application/vnd.google.colaboratory.intrinsic+json": {
              "type": "dataframe",
              "variable_name": "NBA_Data"
            }
          },
          "metadata": {},
          "execution_count": 19
        }
      ]
    },
    {
      "cell_type": "code",
      "source": [
        "# Redo train_test_split with new dataframe\n",
        "X = NBA_Data.drop(columns='class')\n",
        "y = NBA_Data['class']\n",
        "\n",
        "X_train, X_test, y_train, y_test = train_test_split(X, y, test_size = 0.33, random_state = 3)"
      ],
      "metadata": {
        "id": "qpEzOaPyB4lP"
      },
      "execution_count": null,
      "outputs": []
    },
    {
      "cell_type": "code",
      "source": [
        "# Redo feature selection\n",
        "# Correlation Matrix:\n",
        "\n",
        "corr_matrix = NBA_Data.corr(method='pearson', min_periods=1)\n",
        "correlations_class = corr_matrix['class'].sort_values(ascending=False).head(4)\n",
        "print(\"Top 3 Features Based on Correlation:\", correlations_class)\n",
        "\n",
        "# Mutual Information:\n",
        "\n",
        "mutual_info_selector = SelectKBest(mutual_info_classif, k=3)\n",
        "X_mutual_info = mutual_info_selector.fit_transform(X, y)\n",
        "mutual_info_feat = X.columns[mutual_info_selector.get_support()]\n",
        "print(\"Top 3 Features Based on Information Gain:\", mutual_info_feat)\n",
        "\n",
        "# Chi-Square:\n",
        "\n",
        "chi2_selector = SelectKBest(chi2, k=3)\n",
        "X_chi2_info = chi2_selector.fit_transform(X, y)\n",
        "chi2_feat = X.columns[chi2_selector.get_support()]\n",
        "print(\"Top 3 Features Based on Chi2:\", chi2_feat)"
      ],
      "metadata": {
        "id": "L2lpVkwtBt7V"
      },
      "execution_count": null,
      "outputs": []
    },
    {
      "cell_type": "markdown",
      "source": [
        "## Feature Selection"
      ],
      "metadata": {
        "id": "WN7YVcFPIbBm"
      }
    },
    {
      "cell_type": "code",
      "source": [
        "# Choose model\n",
        "model = random_forest_model"
      ],
      "metadata": {
        "id": "Z1ykx91uHBzd"
      },
      "execution_count": null,
      "outputs": []
    },
    {
      "cell_type": "code",
      "source": [
        "# Filter method\n",
        "selector = SelectKBest(mutual_info_classif).fit(X,y)\n",
        "scores = selector.scores_\n",
        "feature_names=list(X.columns)\n",
        "\n",
        "# Print the scores for each feature\n",
        "for i, score in enumerate(selector.scores_):\n",
        "    print(\"Feature %s: %f\" % (feature_names[i], score))"
      ],
      "metadata": {
        "id": "-1iGVlw1FSKD"
      },
      "execution_count": null,
      "outputs": []
    },
    {
      "cell_type": "code",
      "source": [
        "# Get the indices of the selected features\n",
        "selected_features_indices = selector.get_support(indices=True)\n",
        "\n",
        "# Create a dictionary that maps feature names to their scores\n",
        "score_dict = dict(zip(feature_names, scores))\n",
        "\n",
        "# Sort the dictionary by scores in descending order\n",
        "sorted_dict = sorted(score_dict.items(), key=lambda x: x[1])\n",
        "print(sorted_dict)"
      ],
      "metadata": {
        "id": "gaC0MVX2GwtV"
      },
      "execution_count": null,
      "outputs": []
    },
    {
      "cell_type": "code",
      "source": [
        "mycv = cross_val_score(model, X, y, scoring='roc_auc', cv = 10).mean()\n",
        "print('Random Forest 10-Fold Cross Validation ROC AUC:', round(mycv*100,2),'%')"
      ],
      "metadata": {
        "id": "1nW_eF_pHrkm"
      },
      "execution_count": null,
      "outputs": []
    },
    {
      "cell_type": "code",
      "source": [
        "# List to hold features that should be removed.\n",
        "features_to_remove = []\n",
        "\n",
        "for feature, _ in sorted_dict:\n",
        "\n",
        "    # Drop one feature at a time\n",
        "    X_temp = X.drop(columns=[feature])\n",
        "\n",
        "    # Construct a new model with the removed feature\n",
        "    model_temp = RandomForestClassifier(criterion = 'entropy', n_estimators = 100).fit(X_train,y_train)\n",
        "\n",
        "    # Calculate the 10-Fold Cross Validation ROC AUC % on the new model.\n",
        "    auc_score = cross_val_score(model_temp, X_temp, y, scoring='roc_auc', cv=10).mean()\n",
        "\n",
        "    print('Random Forest 10-Fold Cross Validation ROC AUC after removing', feature,':', round(auc_score*100, 2), '%')\n",
        "\n",
        "    if auc_score >= mycv:\n",
        "        features_to_remove.append(feature)\n",
        "\n",
        "print('\\nFeatures to Remove:',features_to_remove)"
      ],
      "metadata": {
        "id": "0Ls6HePgHSQm"
      },
      "execution_count": null,
      "outputs": []
    },
    {
      "cell_type": "markdown",
      "source": [
        "The above filter method has som interesting features to remove. Many of them seem to have high predictive power even though removing them increases training accuracy. However, this might lead to overfitting, so we'll keep them for now."
      ],
      "metadata": {
        "id": "_oeTxU9KIr8A"
      }
    },
    {
      "cell_type": "code",
      "source": [
        "# DO NOT RUN THE FOLLOWING CELL - it takes forever lol"
      ],
      "metadata": {
        "id": "eLn_MoqvU5f-"
      },
      "execution_count": null,
      "outputs": []
    },
    {
      "cell_type": "code",
      "source": [
        "# Wrapper method\n",
        "sfs = SFS(model, n_features_to_select='auto', direction='forward', scoring='roc_auc', cv=10).fit(X,y)\n",
        "\n",
        "# Used to transform the dataset X by selecting only the features that SFS determined to be most important.\n",
        "X_selected = sfs.transform(X)\n",
        "\n",
        "# sfs.get_support() returns a boolean array indicating which features were selected.\n",
        "# By zipping this array with X.columns and iterating through them, the code creates a list of feature names that corresponds to True in the boolean array (selected),\n",
        "  # indicating these features were selected by SFS.\n",
        "selected_feature_names = [name for name, selected in zip(X.columns, sfs.get_support()) if selected]\n",
        "\n",
        "print(\"Selected feature names:\", selected_feature_names)"
      ],
      "metadata": {
        "id": "Ig8oNzLSI_aQ"
      },
      "execution_count": null,
      "outputs": []
    },
    {
      "cell_type": "code",
      "source": [
        "selected_features =  ['minutes', 'pts', 'asts', 'blk', 'turnover', 'fga', 'fgm', 'fta', 'tpm', 'firstSeason', 'lastSeason', 'yrsRetired2004', 'minutes_per_game', 'pts_per_game', 'offReb_per_game', 'reb_per_game', 'blk_per_game', 'turnover_per_game', 'fta_per_game', 'ftm_per_game', 'tpm_per_game']"
      ],
      "metadata": {
        "id": "NlSW8loHUa-a"
      },
      "execution_count": null,
      "outputs": []
    },
    {
      "cell_type": "code",
      "source": [
        "df = NBA_Data[selected_features]"
      ],
      "metadata": {
        "id": "8736u3xUXHQh"
      },
      "execution_count": null,
      "outputs": []
    },
    {
      "cell_type": "code",
      "source": [
        "df.head()"
      ],
      "metadata": {
        "colab": {
          "base_uri": "https://localhost:8080/",
          "height": 255
        },
        "id": "jsE4db3JXOTM",
        "outputId": "040f1b74-53bd-4834-bf88-23a60ac90d4e"
      },
      "execution_count": null,
      "outputs": [
        {
          "output_type": "execute_result",
          "data": {
            "text/plain": [
              "       minutes     pts   asts         blk    turnover     fga     fgm     fta  \\\n",
              "0  9825.000000  5232.0  866.0  175.000000  700.000000  4074.0  2031.0  1495.0   \n",
              "1  6892.183838   587.0  158.0   87.652525  291.529293   620.0   222.0   181.0   \n",
              "2  6892.183838  1712.0  311.0   87.652525  291.529293  2190.0   655.0   620.0   \n",
              "3  2587.000000   992.0  291.0   14.000000  207.000000   824.0   378.0   130.0   \n",
              "4    28.000000     7.0    0.0   87.652525    1.000000     6.0     2.0     5.0   \n",
              "\n",
              "         tpm  firstSeason  ...  yrsRetired2004  minutes_per_game  \\\n",
              "0   45.00000       1982.0  ...            14.0         24.080882   \n",
              "1   52.39596       1949.0  ...            55.0        135.140860   \n",
              "2   52.39596       1946.0  ...            54.0         26.008241   \n",
              "3  134.00000       2003.0  ...             0.0         19.451128   \n",
              "4   52.39596       2004.0  ...             0.0          3.500000   \n",
              "\n",
              "   pts_per_game  offReb_per_game  reb_per_game  blk_per_game  \\\n",
              "0     12.823529         1.166667      3.186275      0.428922   \n",
              "1     11.509804         0.000000      0.000000      1.718677   \n",
              "2      6.460377         0.000000      0.271698      0.330764   \n",
              "3      7.458647         0.413534      1.902256      0.105263   \n",
              "4      0.875000         0.000000      0.250000     10.956566   \n",
              "\n",
              "   turnover_per_game  fta_per_game  ftm_per_game  tpm_per_game  \n",
              "0           1.715686      3.664216      2.757353      0.110294  \n",
              "1           5.716261      3.549020      2.803922      1.027372  \n",
              "2           1.100111      2.339623      1.516981      0.197721  \n",
              "3           1.556391      0.977444      0.766917      1.007519  \n",
              "4           0.125000      0.625000      0.375000      6.549495  \n",
              "\n",
              "[5 rows x 21 columns]"
            ],
            "text/html": [
              "\n",
              "  <div id=\"df-1ef0b01a-cec1-42c3-8d80-1f331f8bca0e\" class=\"colab-df-container\">\n",
              "    <div>\n",
              "<style scoped>\n",
              "    .dataframe tbody tr th:only-of-type {\n",
              "        vertical-align: middle;\n",
              "    }\n",
              "\n",
              "    .dataframe tbody tr th {\n",
              "        vertical-align: top;\n",
              "    }\n",
              "\n",
              "    .dataframe thead th {\n",
              "        text-align: right;\n",
              "    }\n",
              "</style>\n",
              "<table border=\"1\" class=\"dataframe\">\n",
              "  <thead>\n",
              "    <tr style=\"text-align: right;\">\n",
              "      <th></th>\n",
              "      <th>minutes</th>\n",
              "      <th>pts</th>\n",
              "      <th>asts</th>\n",
              "      <th>blk</th>\n",
              "      <th>turnover</th>\n",
              "      <th>fga</th>\n",
              "      <th>fgm</th>\n",
              "      <th>fta</th>\n",
              "      <th>tpm</th>\n",
              "      <th>firstSeason</th>\n",
              "      <th>...</th>\n",
              "      <th>yrsRetired2004</th>\n",
              "      <th>minutes_per_game</th>\n",
              "      <th>pts_per_game</th>\n",
              "      <th>offReb_per_game</th>\n",
              "      <th>reb_per_game</th>\n",
              "      <th>blk_per_game</th>\n",
              "      <th>turnover_per_game</th>\n",
              "      <th>fta_per_game</th>\n",
              "      <th>ftm_per_game</th>\n",
              "      <th>tpm_per_game</th>\n",
              "    </tr>\n",
              "  </thead>\n",
              "  <tbody>\n",
              "    <tr>\n",
              "      <th>0</th>\n",
              "      <td>9825.000000</td>\n",
              "      <td>5232.0</td>\n",
              "      <td>866.0</td>\n",
              "      <td>175.000000</td>\n",
              "      <td>700.000000</td>\n",
              "      <td>4074.0</td>\n",
              "      <td>2031.0</td>\n",
              "      <td>1495.0</td>\n",
              "      <td>45.00000</td>\n",
              "      <td>1982.0</td>\n",
              "      <td>...</td>\n",
              "      <td>14.0</td>\n",
              "      <td>24.080882</td>\n",
              "      <td>12.823529</td>\n",
              "      <td>1.166667</td>\n",
              "      <td>3.186275</td>\n",
              "      <td>0.428922</td>\n",
              "      <td>1.715686</td>\n",
              "      <td>3.664216</td>\n",
              "      <td>2.757353</td>\n",
              "      <td>0.110294</td>\n",
              "    </tr>\n",
              "    <tr>\n",
              "      <th>1</th>\n",
              "      <td>6892.183838</td>\n",
              "      <td>587.0</td>\n",
              "      <td>158.0</td>\n",
              "      <td>87.652525</td>\n",
              "      <td>291.529293</td>\n",
              "      <td>620.0</td>\n",
              "      <td>222.0</td>\n",
              "      <td>181.0</td>\n",
              "      <td>52.39596</td>\n",
              "      <td>1949.0</td>\n",
              "      <td>...</td>\n",
              "      <td>55.0</td>\n",
              "      <td>135.140860</td>\n",
              "      <td>11.509804</td>\n",
              "      <td>0.000000</td>\n",
              "      <td>0.000000</td>\n",
              "      <td>1.718677</td>\n",
              "      <td>5.716261</td>\n",
              "      <td>3.549020</td>\n",
              "      <td>2.803922</td>\n",
              "      <td>1.027372</td>\n",
              "    </tr>\n",
              "    <tr>\n",
              "      <th>2</th>\n",
              "      <td>6892.183838</td>\n",
              "      <td>1712.0</td>\n",
              "      <td>311.0</td>\n",
              "      <td>87.652525</td>\n",
              "      <td>291.529293</td>\n",
              "      <td>2190.0</td>\n",
              "      <td>655.0</td>\n",
              "      <td>620.0</td>\n",
              "      <td>52.39596</td>\n",
              "      <td>1946.0</td>\n",
              "      <td>...</td>\n",
              "      <td>54.0</td>\n",
              "      <td>26.008241</td>\n",
              "      <td>6.460377</td>\n",
              "      <td>0.000000</td>\n",
              "      <td>0.271698</td>\n",
              "      <td>0.330764</td>\n",
              "      <td>1.100111</td>\n",
              "      <td>2.339623</td>\n",
              "      <td>1.516981</td>\n",
              "      <td>0.197721</td>\n",
              "    </tr>\n",
              "    <tr>\n",
              "      <th>3</th>\n",
              "      <td>2587.000000</td>\n",
              "      <td>992.0</td>\n",
              "      <td>291.0</td>\n",
              "      <td>14.000000</td>\n",
              "      <td>207.000000</td>\n",
              "      <td>824.0</td>\n",
              "      <td>378.0</td>\n",
              "      <td>130.0</td>\n",
              "      <td>134.00000</td>\n",
              "      <td>2003.0</td>\n",
              "      <td>...</td>\n",
              "      <td>0.0</td>\n",
              "      <td>19.451128</td>\n",
              "      <td>7.458647</td>\n",
              "      <td>0.413534</td>\n",
              "      <td>1.902256</td>\n",
              "      <td>0.105263</td>\n",
              "      <td>1.556391</td>\n",
              "      <td>0.977444</td>\n",
              "      <td>0.766917</td>\n",
              "      <td>1.007519</td>\n",
              "    </tr>\n",
              "    <tr>\n",
              "      <th>4</th>\n",
              "      <td>28.000000</td>\n",
              "      <td>7.0</td>\n",
              "      <td>0.0</td>\n",
              "      <td>87.652525</td>\n",
              "      <td>1.000000</td>\n",
              "      <td>6.0</td>\n",
              "      <td>2.0</td>\n",
              "      <td>5.0</td>\n",
              "      <td>52.39596</td>\n",
              "      <td>2004.0</td>\n",
              "      <td>...</td>\n",
              "      <td>0.0</td>\n",
              "      <td>3.500000</td>\n",
              "      <td>0.875000</td>\n",
              "      <td>0.000000</td>\n",
              "      <td>0.250000</td>\n",
              "      <td>10.956566</td>\n",
              "      <td>0.125000</td>\n",
              "      <td>0.625000</td>\n",
              "      <td>0.375000</td>\n",
              "      <td>6.549495</td>\n",
              "    </tr>\n",
              "  </tbody>\n",
              "</table>\n",
              "<p>5 rows × 21 columns</p>\n",
              "</div>\n",
              "    <div class=\"colab-df-buttons\">\n",
              "\n",
              "  <div class=\"colab-df-container\">\n",
              "    <button class=\"colab-df-convert\" onclick=\"convertToInteractive('df-1ef0b01a-cec1-42c3-8d80-1f331f8bca0e')\"\n",
              "            title=\"Convert this dataframe to an interactive table.\"\n",
              "            style=\"display:none;\">\n",
              "\n",
              "  <svg xmlns=\"http://www.w3.org/2000/svg\" height=\"24px\" viewBox=\"0 -960 960 960\">\n",
              "    <path d=\"M120-120v-720h720v720H120Zm60-500h600v-160H180v160Zm220 220h160v-160H400v160Zm0 220h160v-160H400v160ZM180-400h160v-160H180v160Zm440 0h160v-160H620v160ZM180-180h160v-160H180v160Zm440 0h160v-160H620v160Z\"/>\n",
              "  </svg>\n",
              "    </button>\n",
              "\n",
              "  <style>\n",
              "    .colab-df-container {\n",
              "      display:flex;\n",
              "      gap: 12px;\n",
              "    }\n",
              "\n",
              "    .colab-df-convert {\n",
              "      background-color: #E8F0FE;\n",
              "      border: none;\n",
              "      border-radius: 50%;\n",
              "      cursor: pointer;\n",
              "      display: none;\n",
              "      fill: #1967D2;\n",
              "      height: 32px;\n",
              "      padding: 0 0 0 0;\n",
              "      width: 32px;\n",
              "    }\n",
              "\n",
              "    .colab-df-convert:hover {\n",
              "      background-color: #E2EBFA;\n",
              "      box-shadow: 0px 1px 2px rgba(60, 64, 67, 0.3), 0px 1px 3px 1px rgba(60, 64, 67, 0.15);\n",
              "      fill: #174EA6;\n",
              "    }\n",
              "\n",
              "    .colab-df-buttons div {\n",
              "      margin-bottom: 4px;\n",
              "    }\n",
              "\n",
              "    [theme=dark] .colab-df-convert {\n",
              "      background-color: #3B4455;\n",
              "      fill: #D2E3FC;\n",
              "    }\n",
              "\n",
              "    [theme=dark] .colab-df-convert:hover {\n",
              "      background-color: #434B5C;\n",
              "      box-shadow: 0px 1px 3px 1px rgba(0, 0, 0, 0.15);\n",
              "      filter: drop-shadow(0px 1px 2px rgba(0, 0, 0, 0.3));\n",
              "      fill: #FFFFFF;\n",
              "    }\n",
              "  </style>\n",
              "\n",
              "    <script>\n",
              "      const buttonEl =\n",
              "        document.querySelector('#df-1ef0b01a-cec1-42c3-8d80-1f331f8bca0e button.colab-df-convert');\n",
              "      buttonEl.style.display =\n",
              "        google.colab.kernel.accessAllowed ? 'block' : 'none';\n",
              "\n",
              "      async function convertToInteractive(key) {\n",
              "        const element = document.querySelector('#df-1ef0b01a-cec1-42c3-8d80-1f331f8bca0e');\n",
              "        const dataTable =\n",
              "          await google.colab.kernel.invokeFunction('convertToInteractive',\n",
              "                                                    [key], {});\n",
              "        if (!dataTable) return;\n",
              "\n",
              "        const docLinkHtml = 'Like what you see? Visit the ' +\n",
              "          '<a target=\"_blank\" href=https://colab.research.google.com/notebooks/data_table.ipynb>data table notebook</a>'\n",
              "          + ' to learn more about interactive tables.';\n",
              "        element.innerHTML = '';\n",
              "        dataTable['output_type'] = 'display_data';\n",
              "        await google.colab.output.renderOutput(dataTable, element);\n",
              "        const docLink = document.createElement('div');\n",
              "        docLink.innerHTML = docLinkHtml;\n",
              "        element.appendChild(docLink);\n",
              "      }\n",
              "    </script>\n",
              "  </div>\n",
              "\n",
              "\n",
              "<div id=\"df-fbcdd81e-374b-439a-b3b8-24f23dcc955e\">\n",
              "  <button class=\"colab-df-quickchart\" onclick=\"quickchart('df-fbcdd81e-374b-439a-b3b8-24f23dcc955e')\"\n",
              "            title=\"Suggest charts\"\n",
              "            style=\"display:none;\">\n",
              "\n",
              "<svg xmlns=\"http://www.w3.org/2000/svg\" height=\"24px\"viewBox=\"0 0 24 24\"\n",
              "     width=\"24px\">\n",
              "    <g>\n",
              "        <path d=\"M19 3H5c-1.1 0-2 .9-2 2v14c0 1.1.9 2 2 2h14c1.1 0 2-.9 2-2V5c0-1.1-.9-2-2-2zM9 17H7v-7h2v7zm4 0h-2V7h2v10zm4 0h-2v-4h2v4z\"/>\n",
              "    </g>\n",
              "</svg>\n",
              "  </button>\n",
              "\n",
              "<style>\n",
              "  .colab-df-quickchart {\n",
              "      --bg-color: #E8F0FE;\n",
              "      --fill-color: #1967D2;\n",
              "      --hover-bg-color: #E2EBFA;\n",
              "      --hover-fill-color: #174EA6;\n",
              "      --disabled-fill-color: #AAA;\n",
              "      --disabled-bg-color: #DDD;\n",
              "  }\n",
              "\n",
              "  [theme=dark] .colab-df-quickchart {\n",
              "      --bg-color: #3B4455;\n",
              "      --fill-color: #D2E3FC;\n",
              "      --hover-bg-color: #434B5C;\n",
              "      --hover-fill-color: #FFFFFF;\n",
              "      --disabled-bg-color: #3B4455;\n",
              "      --disabled-fill-color: #666;\n",
              "  }\n",
              "\n",
              "  .colab-df-quickchart {\n",
              "    background-color: var(--bg-color);\n",
              "    border: none;\n",
              "    border-radius: 50%;\n",
              "    cursor: pointer;\n",
              "    display: none;\n",
              "    fill: var(--fill-color);\n",
              "    height: 32px;\n",
              "    padding: 0;\n",
              "    width: 32px;\n",
              "  }\n",
              "\n",
              "  .colab-df-quickchart:hover {\n",
              "    background-color: var(--hover-bg-color);\n",
              "    box-shadow: 0 1px 2px rgba(60, 64, 67, 0.3), 0 1px 3px 1px rgba(60, 64, 67, 0.15);\n",
              "    fill: var(--button-hover-fill-color);\n",
              "  }\n",
              "\n",
              "  .colab-df-quickchart-complete:disabled,\n",
              "  .colab-df-quickchart-complete:disabled:hover {\n",
              "    background-color: var(--disabled-bg-color);\n",
              "    fill: var(--disabled-fill-color);\n",
              "    box-shadow: none;\n",
              "  }\n",
              "\n",
              "  .colab-df-spinner {\n",
              "    border: 2px solid var(--fill-color);\n",
              "    border-color: transparent;\n",
              "    border-bottom-color: var(--fill-color);\n",
              "    animation:\n",
              "      spin 1s steps(1) infinite;\n",
              "  }\n",
              "\n",
              "  @keyframes spin {\n",
              "    0% {\n",
              "      border-color: transparent;\n",
              "      border-bottom-color: var(--fill-color);\n",
              "      border-left-color: var(--fill-color);\n",
              "    }\n",
              "    20% {\n",
              "      border-color: transparent;\n",
              "      border-left-color: var(--fill-color);\n",
              "      border-top-color: var(--fill-color);\n",
              "    }\n",
              "    30% {\n",
              "      border-color: transparent;\n",
              "      border-left-color: var(--fill-color);\n",
              "      border-top-color: var(--fill-color);\n",
              "      border-right-color: var(--fill-color);\n",
              "    }\n",
              "    40% {\n",
              "      border-color: transparent;\n",
              "      border-right-color: var(--fill-color);\n",
              "      border-top-color: var(--fill-color);\n",
              "    }\n",
              "    60% {\n",
              "      border-color: transparent;\n",
              "      border-right-color: var(--fill-color);\n",
              "    }\n",
              "    80% {\n",
              "      border-color: transparent;\n",
              "      border-right-color: var(--fill-color);\n",
              "      border-bottom-color: var(--fill-color);\n",
              "    }\n",
              "    90% {\n",
              "      border-color: transparent;\n",
              "      border-bottom-color: var(--fill-color);\n",
              "    }\n",
              "  }\n",
              "</style>\n",
              "\n",
              "  <script>\n",
              "    async function quickchart(key) {\n",
              "      const quickchartButtonEl =\n",
              "        document.querySelector('#' + key + ' button');\n",
              "      quickchartButtonEl.disabled = true;  // To prevent multiple clicks.\n",
              "      quickchartButtonEl.classList.add('colab-df-spinner');\n",
              "      try {\n",
              "        const charts = await google.colab.kernel.invokeFunction(\n",
              "            'suggestCharts', [key], {});\n",
              "      } catch (error) {\n",
              "        console.error('Error during call to suggestCharts:', error);\n",
              "      }\n",
              "      quickchartButtonEl.classList.remove('colab-df-spinner');\n",
              "      quickchartButtonEl.classList.add('colab-df-quickchart-complete');\n",
              "    }\n",
              "    (() => {\n",
              "      let quickchartButtonEl =\n",
              "        document.querySelector('#df-fbcdd81e-374b-439a-b3b8-24f23dcc955e button');\n",
              "      quickchartButtonEl.style.display =\n",
              "        google.colab.kernel.accessAllowed ? 'block' : 'none';\n",
              "    })();\n",
              "  </script>\n",
              "</div>\n",
              "    </div>\n",
              "  </div>\n"
            ],
            "application/vnd.google.colaboratory.intrinsic+json": {
              "type": "dataframe",
              "variable_name": "df"
            }
          },
          "metadata": {},
          "execution_count": 31
        }
      ]
    },
    {
      "cell_type": "markdown",
      "source": [
        "## Final Model"
      ],
      "metadata": {
        "id": "JA1MlAcTYe8S"
      }
    },
    {
      "cell_type": "code",
      "source": [
        "model.fit(df, y)\n",
        "selected_features_accuracy = round(cross_val_score(model, df, y, cv = 10).mean()*100,2)\n",
        "selected_features_auc = round(cross_val_score(model, df, y, cv=10, scoring='roc_auc').mean()*100,2)\n",
        "print(\"Accuracy After Wrapping with SFS:\", selected_features_accuracy,'%')\n",
        "print(\"ROC AUC Score After Wrapping with SFS:\", selected_features_auc,'%')"
      ],
      "metadata": {
        "colab": {
          "base_uri": "https://localhost:8080/"
        },
        "id": "z-64unUHU42R",
        "outputId": "5b849579-68b4-4b18-a8e1-e652c09780ef"
      },
      "execution_count": null,
      "outputs": [
        {
          "output_type": "stream",
          "name": "stdout",
          "text": [
            "Accuracy After Wrapping with SFS: 97.57 %\n",
            "ROC AUC Score After Wrapping with SFS: 98.47 %\n"
          ]
        }
      ]
    },
    {
      "cell_type": "markdown",
      "source": [
        "## **Part III: Investment Decisions (40 Points)**"
      ],
      "metadata": {
        "id": "iSjNQJX50SAl"
      }
    },
    {
      "cell_type": "markdown",
      "source": [
        "Assume you have 4,000,000 dollars at your disposal to buy players’ memorabilia. Each individual player's memorabilia costs 40,000 dollars (you can buy a maximum of 100 players’ memorabilia) when the player is not a hall of famer. At this time, it is unknown whether any of the players in the test set will be inducted. Assume that the NBA will release the list of hall of famers some time in the future, before which you must decide whether to buy the memorabilia of any given player.\n",
        "\n",
        "Also assume that if you invest in a player who will later be inducted to the hall of fame, your estimated revenue from selling the corresponding player’s memorabilia after the induction is 120,000 dollars (the memorabilia will appreciate by 80,000 dollars). Also assume that if you decide to buy a given player's memorabilia, and, to your disappointment, the player is not inducted, you will lose 50% of your initial investment in the corresponding player’s memorabilia (i.e., a loss of 20,000 dollars).\n",
        "\n",
        "**3.1: Use the [value_counts()](https://pandas.pydata.org/docs/reference/api/pandas.Series.value_counts.html) method on `y_train` and `y_test`. What is the maximum possible profit attainable from the training set, the testing set, and the entire data set? (5 Points)**"
      ],
      "metadata": {
        "id": "ezk9IAbVsbTu"
      }
    },
    {
      "cell_type": "code",
      "source": [
        "train_count = y_train.value_counts()\n",
        "train_max_profit = min(train_count[1], 100) * 80000\n",
        "\n",
        "test_count = y_test.value_counts()\n",
        "test_max_profit = min(test_count[1], 100) * 80000\n",
        "\n",
        "total_count = train_count.add(test_count, fill_value=0)\n",
        "total_max_profit = min(total_count[1], 100) * 80000\n",
        "\n",
        "print('The max possible profit attainable from the training set is:', \"{:,}\".format(train_max_profit))\n",
        "\n",
        "print('The max possible profit attainable from the testing set is:', \"{:,}\".format(test_max_profit))\n",
        "\n",
        "print('The max possible profit attainable from the entire data set is:', \"{:,}\".format(total_max_profit))\n"
      ],
      "metadata": {
        "id": "uqPLHdVbyfNW",
        "outputId": "bc261a83-23a4-4752-e57b-75a2f575109e",
        "colab": {
          "base_uri": "https://localhost:8080/"
        }
      },
      "execution_count": null,
      "outputs": [
        {
          "output_type": "stream",
          "name": "stdout",
          "text": [
            "The max possible profit attainable from the training set is: 1,920,000\n",
            "The max possible profit attainable from the testing set is: 1,680,000\n",
            "The max possible profit attainable from the entire data set is: 3,600,000\n"
          ]
        }
      ]
    },
    {
      "cell_type": "markdown",
      "source": [
        "**3.2: What evaluation measure/plot (i.e., classification accuracy rate, ROC area, lift chart, or profit chart) would be most appropriate in order to select the predictive model based on which to select players to invest in? Why? (5 points)**"
      ],
      "metadata": {
        "id": "nh2a5-lKtneb"
      }
    },
    {
      "cell_type": "markdown",
      "source": [
        "We think that using a profit chart would be the most appropriate to select the predictive model. Since we are using profit as a metric to decide which players to invest in, a profit chart will show which subset of players will maximize our investment."
      ],
      "metadata": {
        "id": "oACZzcg2t9Ky"
      }
    },
    {
      "cell_type": "markdown",
      "source": [
        "**3.3: Use the training data with 10-fold cross-validation, as well as the evaluation measure/plot you selected in (3.2), to compare between models and to select the model that performs best. Present your results to support your choice of the best model to use. Explain in words how the evidence you present supports your choice of model. (10 points)**"
      ],
      "metadata": {
        "id": "pCztGeLGuf_q"
      }
    },
    {
      "cell_type": "code",
      "source": [
        "cost_matrix = np.array(([80000, 20000], [0, 0]))\n",
        "def plot_profit_curve(dt, X, y, cm, model_name, n_points = 100):\n",
        "    prob_pred = cross_val_predict(dt, X, y, cv= 10, method = 'predict_proba')\n",
        "\n",
        "    prob_df = pd.DataFrame()\n",
        "    prob_df['True'] = y\n",
        "    prob_df['Prob']= prob_pred[:,1]\n",
        "    prob_df['TP'] = 0\n",
        "\n",
        "    profits = []\n",
        "    thresholds = np.linspace(0, 1, n_points)\n",
        "\n",
        "    sorted_prob_df = prob_df.sort_values(by='Prob', ascending=False)\n",
        "\n",
        "    for p in thresholds:\n",
        "        cut = int(p*len(sorted_prob_df))\n",
        "        subset = sorted_prob_df.iloc[:cut]\n",
        "        TP = subset['True'].sum()\n",
        "        FP = len(subset) - TP\n",
        "        profit = (TP * cm[0, 0]) - (FP * cm[0, 1])\n",
        "        profits.append(profit)\n",
        "\n",
        "\n",
        "    proportion_customers = np.linspace(0, 1, n_points)\n",
        "    plt.plot(proportion_customers, profits, label= model_name)\n",
        "    plt.xlabel('Proportion of Population')\n",
        "    plt.ylabel('Cumulative Net Revenue')\n",
        "    plt.title('Profit-Lift Chart')\n",
        "    plt.legend()\n",
        "\n",
        "model_names = ['Final Model', 'Tree Model', 'Bagging Model', 'Random Forest Model', 'N Bayes Model', 'K Nearest Model']\n",
        "\n",
        "\n",
        "plot_profit_curve(model, X, y, cost_matrix, model_names[0])\n",
        "plot_profit_curve(tree_model, X, y, cost_matrix, model_names[1])\n",
        "plot_profit_curve(bagging_model, X, y, cost_matrix, model_names[2])\n",
        "plot_profit_curve(random_forest_model, X, y, cost_matrix, model_names[3])\n",
        "plot_profit_curve(nbayes_model, X, y, cost_matrix, model_names[4])\n",
        "plot_profit_curve(knearest_model, X, y, cost_matrix, model_names[5])\n",
        "\n",
        "plt.show()"
      ],
      "metadata": {
        "id": "Z1g4477bfAAj",
        "colab": {
          "base_uri": "https://localhost:8080/",
          "height": 472
        },
        "outputId": "4bf4de8a-bd06-4ee6-d0b0-31112394d4c3"
      },
      "execution_count": null,
      "outputs": [
        {
          "output_type": "display_data",
          "data": {
            "text/plain": [
              "<Figure size 640x480 with 1 Axes>"
            ],
            "image/png": "[encoded data removed]"
          },
          "metadata": {}
        }
      ]
    },
    {
      "cell_type": "markdown",
      "source": [
        "*Your Response*"
      ],
      "metadata": {
        "id": "63zSG7gHwUiS"
      }
    },
    {
      "cell_type": "markdown",
      "source": [
        "**3.4: Using the model selected in 3.3, formulate clearly the investment strategy you will use to decide which players to invest in. The strategy should include the following:**\n",
        "\n",
        "  **a. Which model to use (along with corresponding parameters, such as number and type of models in bagging ensemble, number of K nearest neighbors, etc.)**\n",
        "\n",
        "  **b. Given your model’s estimated probability of induction, above what probability threshold to invest in a player’s memorabilia.**\n",
        "\n",
        "  **(10 Points)**"
      ],
      "metadata": {
        "id": "BJ_N75pp0Lo2"
      }
    },
    {
      "cell_type": "code",
      "source": [
        "def calculate_profit_threshold(prob_df, benefit=100, cost=70):\n",
        "    profit_threshold = {}\n",
        "    thresholds = np.linspace(0, 1, 101)\n",
        "    for threshold in thresholds:\n",
        "        tp = prob_df[(prob_df['Prob'] >= threshold) & (prob_df['True'] == True)].shape[0]\n",
        "        fp = prob_df[(prob_df['Prob'] >= threshold) & (prob_df['True'] == False)].shape[0]\n",
        "        profit = (tp * benefit) - (fp * cost)\n",
        "        profit_threshold[threshold] = profit\n",
        "    return profit_threshold\n",
        "\n",
        "prob_tree_model = cross_val_predict(tree_model, X, y, cv=10, method='predict_proba')\n",
        "prob_bagging_model = cross_val_predict(bagging_model, X, y, cv=10, method='predict_proba')\n",
        "prob_final_model = cross_val_predict(model, X, y, cv=10, method='predict_proba')\n",
        "\n",
        "prob_df_tree = pd.DataFrame({'True': y, 'Prob': prob_tree_model[:, 1]})\n",
        "prob_df_bagging = pd.DataFrame({'True': y, 'Prob': prob_bagging_model[:, 1]})\n",
        "prob_df_final = pd.DataFrame({'True': y, 'Prob': prob_final_model[:, 1]})\n",
        "\n",
        "profit_tree_model = calculate_profit_threshold(prob_df_tree)\n",
        "profit_bagging_model = calculate_profit_threshold(prob_df_bagging)\n",
        "profit_final_model = calculate_profit_threshold(prob_df_final)\n",
        "\n",
        "optimal_threshold_tree_model = max(profit_tree_model, key=profit_tree_model.get)\n",
        "optimal_threshold_bagging_model = max(profit_bagging_model, key=profit_bagging_model.get)\n",
        "optimal_threshold_final_model = max(profit_final_model, key=profit_final_model.get)\n",
        "\n",
        "print(\"Optimal Threshold for Decision Tree Model:\", optimal_threshold_tree_model)\n",
        "print(\"Optimal Threshold for Bagging Model:\", optimal_threshold_bagging_model)\n",
        "print(\"Optimal Threshold for Final Model:\", optimal_threshold_final_model)"
      ],
      "metadata": {
        "colab": {
          "base_uri": "https://localhost:8080/"
        },
        "id": "BneWoQwEKw4Y",
        "outputId": "5aac3539-c0ca-46d9-9694-98a8dbc6a14e"
      },
      "execution_count": null,
      "outputs": [
        {
          "output_type": "stream",
          "name": "stdout",
          "text": [
            "Optimal Threshold for Decision Tree Model: 0.01\n",
            "Optimal Threshold for Bagging Model: 0.36\n",
            "Optimal Threshold for Final Model: 0.35000000000000003\n"
          ]
        }
      ]
    },
    {
      "cell_type": "markdown",
      "source": [
        "*After comparing the highest profit-returning models, we decided to use a bagging model. The bagging model uses 70 estimators and is based of a decision tree classifier with entropy as its criterion. Its optimal threshold is 0.36.*"
      ],
      "metadata": {
        "id": "CytNp08u0ssD"
      }
    },
    {
      "cell_type": "markdown",
      "source": [
        "**3.5: Using `predict_proba`, predict probabilites for `class` with your best model on the testing data. Then, select which players to invest in based on the optimal probability threshold, display the list of players (along with their example number) in descending probability order, and report your profit. (10 Points)**"
      ],
      "metadata": {
        "id": "ijuEnNK92UzY"
      }
    },
    {
      "cell_type": "code",
      "source": [
        "combined_test_df = X_test.copy()\n",
        "combined_test_df['class'] = y_test\n",
        "model.fit(X_train, y_train)\n",
        "combined_test_df['proba'] = [round(pred[1], 4) for pred in model.predict_proba(X_test)]\n",
        "# Select the customers based on the optimal threshold\n",
        "target_df = combined_test_df.sort_values('proba', ascending=False)\n",
        "target_df = target_df.loc[target_df['proba'] >= optimal_threshold_bagging_model]\n",
        "\n",
        "#Then go about calculating profit and displaying the targeted customers (the entire dataframe for everyone you choose)\n",
        "target_df_sorted = target_df.sort_values(by='proba', ascending=False)\n",
        "\n",
        "# Display the list of selected players (along with their example number) and profit\n",
        "pd.options.display.max_rows = len(target_df_sorted)\n",
        "print(target_df_sorted[['proba']])\n",
        "\n",
        "# Calculate profit\n",
        "profit = target_df_sorted.shape[0] * (cost_matrix[0, 0] - cost_matrix[0, 1])  # Profit = (TP * Benefit) - (FP * Cost)\n",
        "print(\"Profit:\", profit)"
      ],
      "metadata": {
        "colab": {
          "base_uri": "https://localhost:8080/"
        },
        "id": "QbmSyH5kShya",
        "outputId": "3015b666-b4b1-4492-8f43-a05b16fd4486"
      },
      "execution_count": null,
      "outputs": [
        {
          "output_type": "stream",
          "name": "stdout",
          "text": [
            "     proba\n",
            "73    0.99\n",
            "114   0.97\n",
            "228   0.96\n",
            "87    0.94\n",
            "353   0.91\n",
            "347   0.88\n",
            "397   0.81\n",
            "209   0.74\n",
            "204   0.71\n",
            "80    0.70\n",
            "175   0.69\n",
            "287   0.67\n",
            "394   0.67\n",
            "14    0.65\n",
            "10    0.52\n",
            "340   0.47\n",
            "24    0.47\n",
            "427   0.46\n",
            "330   0.41\n",
            "415   0.40\n",
            "112   0.39\n",
            "Profit: 1260000\n"
          ]
        }
      ]
    },
    {
      "cell_type": "markdown",
      "source": [
        "## **OPTIONAL: Competition Deliverables and Guidelines**"
      ],
      "metadata": {
        "id": "-lsLrtDn0Y67"
      }
    },
    {
      "cell_type": "markdown",
      "source": [
        "To participate in the competition, the only modification your group should need to make is that instead of utilizing the split dataset approach requested in the homework (wherein your group split the data into training and testing sets), **your group should be working with the entire data set (495 records) when fitting and optimizing your model for profit!** This can take as little as 10 extra minutes, but we hope you'll surpass this minimum effort and invest time in developing a more effective and profitable model.\n",
        "\n",
        "By choosing to participate (or failing to meet the regular deadline), your group will be given an extension on your HW4 submission. Additionally, the prizes are as follows (for each group member):\n",
        "\n",
        "* **1st Place:** 20 Bonus points on the HW + Big Challah\n",
        "\n",
        "* **2nd Place:** 15 Bonus points on the HW + Medium Challah\n",
        "\n",
        "* **3rd Place:** 10 Bonus points on the HW + Bite-size Challah"
      ],
      "metadata": {
        "id": "El6XYRhNDkKR"
      }
    },
    {
      "cell_type": "markdown",
      "source": [
        "Here are the deliverables your group must submit **in addition to the Homework assignment on Canvas:**\n",
        "\n",
        "1. A new and separate Jupyter/Colab Notebook (.ipynb file) and title it\n",
        "`cc[YourProfit_YourLastDayOnCampusThisSemester].ipynb`\n",
        "  * For example, if your profit is $2,300,000 and the group member who is leaving campus the earliest is leaving on May 5th, call your file: `cc2300000_0505.ipynb`\n",
        "  * This notebook should be able to recreate all of the steps necessary to generate your group's profit. This includes but is not limited to:\n",
        "    * Feature selection/feature engineering steps,\n",
        "    * the type of model your group selected,\n",
        "    * the model parameters (i.e: number of bags, number of features in random forest, etc.),\n",
        "    * the profit chart, and\n",
        "    * the records selected by your group's model (as a pandas printout).\n",
        "\n",
        "2. A CSV File of your group's final dataset after your group has performed any feature selection/engineering. **This is NOT the printout of records selected by your group's model. This is the dataset of the 495 records you have modified as-needed before fitting your group's model and reporting your group's profit.** If your group is unsure of how to export this file from Python to a CSV file, use the [to_csv()](https://pandas.pydata.org/docs/reference/api/pandas.DataFrame.to_csv.html) method."
      ],
      "metadata": {
        "id": "liLqO9YEF1fz"
      }
    },
    {
      "cell_type": "markdown",
      "source": [
        "Additionally, here are some important guidelines to help your group with the competition:\n",
        "\n",
        "1. As before, use 10-Fold Cross Validation on your group's model and report the accuracy and area under the ROC curve. **This is REQUIRED.**\n",
        "2. If your group's total profit is less than 2 million, please go back to the drawing board.\n",
        "  * Conversely, if your group's profit is greater than 3.4 million or more (approaches the maximum possible profit), also go back to the drawing board, as this likely means your group has made some mistake such as overfitting.\n",
        "3. Your group is only being judged within the BAX section of this course. This means you are not competing with the other sections of this course listed as MIS/MKT and taught in WEKA.\n",
        "4. When grading, we will only upload the original NBA_Data CSV file and then execute a 'run all' on your Jupyter/Colab notebook. Please ensure your group's notebook is optimized for this procedure (runs without errors or significant runtime) and is neat/organized. Failure to do so will result in an automatic disqualification from the competition.\n",
        "5. Your group IS NOT limited to the five models we asked you to use for the homework assignment for this competition. Your group is more than welcome to use other techniques such as XGBoost or even a Neural Network! However, please keep in mind that these models will be more heavily scrutinized to check for mistakes and/or cheating.\n",
        "\n",
        "If your group has any further questions about the competition or are unsure about something in the submission guidelines, please reach out to the Professor or TA as soon as possible! Good luck and happy (data) mining!"
      ],
      "metadata": {
        "id": "huN3gQSsJSlX"
      }
    }
  ]
}